{
 "cells": [
  {
   "cell_type": "code",
   "execution_count": 32,
   "metadata": {},
   "outputs": [],
   "source": [
    "import pandas as pd\n",
    "import matplotlib.pyplot as plt"
   ]
  },
  {
   "cell_type": "code",
   "execution_count": 33,
   "metadata": {},
   "outputs": [],
   "source": [
    "city_attributes_df = pd.read_csv(\"historical-hourly-weather-data/city_attributes.csv\")\n",
    "humidity_df = pd.read_csv(\"historical-hourly-weather-data/humidity.csv\")\n",
    "pressure_df = pd.read_csv(\"historical-hourly-weather-data/pressure.csv\")\n",
    "temperature_df = pd.read_csv(\"historical-hourly-weather-data/temperature.csv\")\n",
    "weather_description_df = pd.read_csv(\"historical-hourly-weather-data/weather_description.csv\")\n",
    "wind_direction_df = pd.read_csv(\"historical-hourly-weather-data/wind_direction.csv\")\n",
    "wind_speed_df = pd.read_csv(\"historical-hourly-weather-data/wind_speed.csv\")"
   ]
  },
  {
   "cell_type": "code",
   "execution_count": 34,
   "metadata": {},
   "outputs": [
    {
     "data": {
      "text/html": [
       "<div>\n",
       "<style scoped>\n",
       "    .dataframe tbody tr th:only-of-type {\n",
       "        vertical-align: middle;\n",
       "    }\n",
       "\n",
       "    .dataframe tbody tr th {\n",
       "        vertical-align: top;\n",
       "    }\n",
       "\n",
       "    .dataframe thead th {\n",
       "        text-align: right;\n",
       "    }\n",
       "</style>\n",
       "<table border=\"1\" class=\"dataframe\">\n",
       "  <thead>\n",
       "    <tr style=\"text-align: right;\">\n",
       "      <th></th>\n",
       "      <th>datetime</th>\n",
       "      <th>city</th>\n",
       "      <th>humidity</th>\n",
       "    </tr>\n",
       "  </thead>\n",
       "  <tbody>\n",
       "    <tr>\n",
       "      <th>0</th>\n",
       "      <td>2012-10-01 12:00:00</td>\n",
       "      <td>Vancouver</td>\n",
       "      <td>NaN</td>\n",
       "    </tr>\n",
       "    <tr>\n",
       "      <th>1</th>\n",
       "      <td>2012-10-01 13:00:00</td>\n",
       "      <td>Vancouver</td>\n",
       "      <td>76.0</td>\n",
       "    </tr>\n",
       "    <tr>\n",
       "      <th>2</th>\n",
       "      <td>2012-10-01 14:00:00</td>\n",
       "      <td>Vancouver</td>\n",
       "      <td>76.0</td>\n",
       "    </tr>\n",
       "    <tr>\n",
       "      <th>3</th>\n",
       "      <td>2012-10-01 15:00:00</td>\n",
       "      <td>Vancouver</td>\n",
       "      <td>76.0</td>\n",
       "    </tr>\n",
       "    <tr>\n",
       "      <th>4</th>\n",
       "      <td>2012-10-01 16:00:00</td>\n",
       "      <td>Vancouver</td>\n",
       "      <td>77.0</td>\n",
       "    </tr>\n",
       "  </tbody>\n",
       "</table>\n",
       "</div>"
      ],
      "text/plain": [
       "              datetime       city  humidity\n",
       "0  2012-10-01 12:00:00  Vancouver       NaN\n",
       "1  2012-10-01 13:00:00  Vancouver      76.0\n",
       "2  2012-10-01 14:00:00  Vancouver      76.0\n",
       "3  2012-10-01 15:00:00  Vancouver      76.0\n",
       "4  2012-10-01 16:00:00  Vancouver      77.0"
      ]
     },
     "execution_count": 34,
     "metadata": {},
     "output_type": "execute_result"
    }
   ],
   "source": [
    "city_attributes_df = city_attributes_df.drop(['City', 'Country'], axis=1)\n",
    "city_attributes_df.head()\n",
    "\n",
    "humidity_df = pd.read_csv(\"historical-hourly-weather-data/humidity.csv\")\n",
    "melt_names = ['Vancouver', 'Portland', 'San Francisco', 'Seattle', 'Los Angeles', 'San Diego', 'Las Vegas', 'Phoenix',\n",
    "             'Albuquerque', 'Denver', 'San Antonio', 'Dallas', 'Houston', 'Kansas City', 'Minneapolis', 'Saint Louis',\n",
    "             'Chicago', 'Nashville', 'Indianapolis', 'Atlanta', 'Detroit', 'Jacksonville', 'Charlotte', 'Miami',\n",
    "             'Pittsburgh', 'Toronto', 'Philadelphia', 'New York', 'Montreal', 'Boston', 'Beersheba', 'Tel Aviv District',\n",
    "             'Eilat', 'Haifa', 'Nahariyya', 'Jerusalem']\n",
    "#print(melt_names)\n",
    "humidity_df = pd.melt(frame=humidity_df, id_vars=['datetime'], value_vars=melt_names, var_name='city', value_name='humidity')\n",
    "humidity_df.head()"
   ]
  },
  {
   "cell_type": "code",
   "execution_count": 35,
   "metadata": {},
   "outputs": [],
   "source": [
    "melt_names = ['Vancouver', 'Portland', 'San Francisco', 'Seattle', 'Los Angeles', 'San Diego', 'Las Vegas', 'Phoenix',\n",
    "             'Albuquerque', 'Denver', 'San Antonio', 'Dallas', 'Houston', 'Kansas City', 'Minneapolis', 'Saint Louis',\n",
    "             'Chicago', 'Nashville', 'Indianapolis', 'Atlanta', 'Detroit', 'Jacksonville', 'Charlotte', 'Miami',\n",
    "             'Pittsburgh', 'Toronto', 'Philadelphia', 'New York', 'Montreal', 'Boston', 'Beersheba', 'Tel Aviv District',\n",
    "             'Eilat', 'Haifa', 'Nahariyya', 'Jerusalem']\n",
    "pressure_df = pd.melt(frame=pressure_df, id_vars=['datetime'], value_vars=melt_names, var_name='city', value_name='pressure')\n",
    "temperature_df = pd.melt(frame=temperature_df, id_vars=['datetime'], value_vars=melt_names, var_name='city', value_name='temperature')\n",
    "weather_description_df = pd.melt(frame=weather_description_df, id_vars=['datetime'], value_vars=melt_names, var_name='city', value_name='weather description')\n",
    "wind_direction_df = pd.melt(frame=wind_direction_df, id_vars=['datetime'], value_vars=melt_names, var_name='city', value_name='wind direction')\n",
    "wind_speed_df = pd.melt(frame=wind_speed_df, id_vars=['datetime'], value_vars=melt_names, var_name='city', value_name='wind speed')"
   ]
  },
  {
   "cell_type": "code",
   "execution_count": 36,
   "metadata": {},
   "outputs": [],
   "source": [
    "df = humidity_df\n",
    "df['temperature'] = temperature_df['temperature']\n",
    "df['pressure'] = pressure_df['pressure']\n",
    "df['weather_description'] = weather_description_df['weather description']\n",
    "df['wind direction'] = wind_direction_df['wind direction']\n",
    "df['wind speed'] = wind_speed_df['wind speed']"
   ]
  },
  {
   "cell_type": "code",
   "execution_count": 37,
   "metadata": {},
   "outputs": [],
   "source": [
    "df.loc[df['city'] == 'Vancouver', 'Latitude'] = 49.249660\n",
    "df.loc[df['city'] == 'Vancouver', 'Longitude'] = -123.119339\n",
    "df.loc[df['city'] == 'Portland', 'Latitude'] = 45.523449\n",
    "df.loc[df['city'] == 'Portland', 'Longitude'] = -122.676208\n",
    "df.loc[df['city'] == 'San Francisco', 'Latitude'] = 37.774929\n",
    "df.loc[df['city'] == 'San Francisco', 'Longitude'] = -122.419418 \n",
    "df.loc[df['city'] == 'Seattle', 'Latitude'] = 47.606209 \n",
    "df.loc[df['city'] == 'Seattle', 'Longitude'] = -122.332069 \n",
    "df.loc[df['city'] == 'Los Angeles', 'Latitude'] = 34.052231 \n",
    "df.loc[df['city'] == 'Los Angeles', 'Longitude'] = -118.243683\n",
    "df.loc[df['city'] == 'San Diego', 'Latitude'] = 32.715328 \n",
    "df.loc[df['city'] == 'San Diego', 'Longitude'] = -117.157257\n",
    "df.loc[df['city'] == 'Las Vegas', 'Latitude'] = 36.174969 \n",
    "df.loc[df['city'] == 'Las Vegas', 'Longitude'] = -115.137222\n",
    "df.loc[df['city'] == 'Phoenix', 'Latitude'] = 33.448380 \n",
    "df.loc[df['city'] == 'Phoenix', 'Longitude'] = -112.074043\n",
    "df.loc[df['city'] == 'Albuquerque', 'Latitude'] = 35.084492 \n",
    "df.loc[df['city'] == 'Albuquerque', 'Longitude'] = -106.651138\n",
    "df.loc[df['city'] == 'Denver', 'Latitude'] = 39.739151 \n",
    "df.loc[df['city'] == 'Denver', 'Longitude'] = -104.984703\n",
    "df.loc[df['city'] == 'San Antonio', 'Latitude'] = 29.424120 \n",
    "df.loc[df['city'] == 'San Antonio', 'Longitude'] = -98.493629\n",
    "df.loc[df['city'] == 'Dallas', 'Latitude'] = 32.783058 \n",
    "df.loc[df['city'] == 'Dallas', 'Longitude'] = -96.806671\n",
    "df.loc[df['city'] == 'Houston', 'Latitude'] = 29.763281\n",
    "df.loc[df['city'] == 'Houston', 'Longitude'] = - 95.363274\n",
    "df.loc[df['city'] == 'Kansas City', 'Latitude'] = 39.099731 \n",
    "df.loc[df['city'] == 'Kansas City', 'Longitude'] = -94.578568\n",
    "df.loc[df['city'] == 'Minneapolis', 'Latitude'] = 44.979969\n",
    "df.loc[df['city'] == 'Minneapolis', 'Longitude'] = -93.263840\n",
    "df.loc[df['city'] == 'Saint Louis', 'Latitude'] = 38.627270\n",
    "df.loc[df['city'] == 'Saint Louis', 'Longitude'] = -90.197891\n",
    "df.loc[df['city'] == 'Chicago', 'Latitude'] = 41.850029\n",
    "df.loc[df['city'] == 'Chicago', 'Longitude'] = -87.650047\n",
    "df.loc[df['city'] == 'Nashville', 'Latitude'] = 36.165890\n",
    "df.loc[df['city'] == 'Nashville', 'Longitude'] = -86.784439\n",
    "df.loc[df['city'] == 'Indianapolis', 'Latitude'] = 39.768379\n",
    "df.loc[df['city'] == 'Indianapolis', 'Longitude'] = -86.158043\n",
    "df.loc[df['city'] == 'Atlanta', 'Latitude'] = 33.749001\n",
    "df.loc[df['city'] == 'Atlanta', 'Longitude'] = -84.387978\n",
    "df.loc[df['city'] == 'Detroit', 'Latitude'] = 42.331429\n",
    "df.loc[df['city'] == 'Detroit', 'Longitude'] = -83.045753\n",
    "df.loc[df['city'] == 'Jacksonville', 'Latitude'] = 30.332180\n",
    "df.loc[df['city'] == 'Jacksonville', 'Longitude'] = -81.655647\n",
    "df.loc[df['city'] == 'Charlotte', 'Latitude'] = 35.227089\n",
    "df.loc[df['city'] == 'Charlotte', 'Longitude'] = -80.843132\n",
    "df.loc[df['city'] == 'Miami', 'Latitude'] = 25.774269\n",
    "df.loc[df['city'] == 'Miami', 'Longitude'] = -80.193657\n",
    "df.loc[df['city'] == 'Pittsburgh', 'Latitude'] = 40.440620\n",
    "df.loc[df['city'] == 'Pittsburgh', 'Longitude'] = -79.995888\n",
    "df.loc[df['city'] == 'Toronto', 'Latitude'] = 43.700111\n",
    "df.loc[df['city'] == 'Toronto', 'Longitude'] = -79.416298\n",
    "df.loc[df['city'] == 'Philadelphia', 'Latitude'] = 39.952339\n",
    "df.loc[df['city'] == 'Philadelphia', 'Longitude'] = -75.163788\n",
    "df.loc[df['city'] == 'New York', 'Latitude'] = 40.714272\n",
    "df.loc[df['city'] == 'New York', 'Longitude'] = -74.005966\n",
    "df.loc[df['city'] == 'Montreal', 'Latitude'] = 45.508839\n",
    "df.loc[df['city'] == 'Montreal', 'Longitude'] = -73.587807\n",
    "df.loc[df['city'] == 'Boston', 'Latitude'] = 42.358429\n",
    "df.loc[df['city'] == 'Boston', 'Longitude'] = -71.059769\n",
    "df.loc[df['city'] == 'Beersheba', 'Latitude'] = 31.251810\n",
    "df.loc[df['city'] == 'Beersheba', 'Longitude'] = 34.791302\n",
    "df.loc[df['city'] == 'Tel Aviv District', 'Latitude'] = 32.083328\n",
    "df.loc[df['city'] == 'Tel Aviv District', 'Longitude'] = 34.799999\n",
    "df.loc[df['city'] == 'Eilat', 'Latitude'] = 29.558050\n",
    "df.loc[df['city'] == 'Eilat', 'Longitude'] = 34.948212\n",
    "df.loc[df['city'] == 'Haifa', 'Latitude'] = 32.815559\n",
    "df.loc[df['city'] == 'Haifa', 'Longitude'] = 34.989170\n",
    "df.loc[df['city'] == 'Nahariyya', 'Latitude'] = 33.005859\n",
    "df.loc[df['city'] == 'Nahariyya', 'Longitude'] = 35.094090\n",
    "df.loc[df['city'] == 'Jerusalem', 'Latitude'] = 31.769039\n",
    "df.loc[df['city'] == 'Jerusalem', 'Longitude'] = 35.216331\n"
   ]
  },
  {
   "cell_type": "code",
   "execution_count": 38,
   "metadata": {},
   "outputs": [],
   "source": [
    "df['datetime'] = pd.to_datetime(df['datetime'])"
   ]
  },
  {
   "cell_type": "code",
   "execution_count": 39,
   "metadata": {},
   "outputs": [],
   "source": [
    "israel_rows_index = df[ (df['city'] == 'Beersheba') | (df['city'] == 'Tel Aviv District') | \n",
    "                        (df['city'] == 'Eilat') | (df['city'] == 'Haifa') |\n",
    "                        (df['city'] == 'Nahariyya') | (df['city'] == 'Jerusalem')].index\n",
    "\n",
    "df = df.drop(israel_rows_index , inplace=False)"
   ]
  },
  {
   "cell_type": "code",
   "execution_count": 40,
   "metadata": {},
   "outputs": [],
   "source": [
    "df = df.dropna()"
   ]
  },
  {
   "cell_type": "code",
   "execution_count": 41,
   "metadata": {},
   "outputs": [],
   "source": [
    "df = df.reset_index(drop=True)"
   ]
  },
  {
   "cell_type": "code",
   "execution_count": 43,
   "metadata": {},
   "outputs": [],
   "source": [
    "# use pd.concat to join the new columns with your original dataframe\n",
    "df = pd.concat([df,pd.get_dummies(df['city'], prefix='city')],axis=1)\n",
    "\n",
    "# now drop the original 'country' column (you don't need it anymore)\n",
    "df.drop(['city'],axis=1, inplace=True)\n",
    "\n",
    "# use pd.concat to join the new columns with your original dataframe\n",
    "df = pd.concat([df,pd.get_dummies(df['weather_description'], prefix='w_desc')],axis=1)\n",
    "\n",
    "# now drop the original 'country' column (you don't need it anymore)\n",
    "df.drop(['weather_description'],axis=1, inplace=True)"
   ]
  },
  {
   "cell_type": "code",
   "execution_count": 49,
   "metadata": {},
   "outputs": [],
   "source": [
    "df.to_csv('full_dataframe.csv', compression='zip')"
   ]
  },
  {
   "cell_type": "code",
   "execution_count": null,
   "metadata": {},
   "outputs": [],
   "source": []
  }
 ],
 "metadata": {
  "kernelspec": {
   "display_name": "Python 3",
   "language": "python",
   "name": "python3"
  },
  "language_info": {
   "codemirror_mode": {
    "name": "ipython",
    "version": 3
   },
   "file_extension": ".py",
   "mimetype": "text/x-python",
   "name": "python",
   "nbconvert_exporter": "python",
   "pygments_lexer": "ipython3",
   "version": "3.7.5"
  }
 },
 "nbformat": 4,
 "nbformat_minor": 2
}
