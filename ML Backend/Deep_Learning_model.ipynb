{
 "metadata": {
  "language_info": {
   "codemirror_mode": {
    "name": "ipython",
    "version": 3
   },
   "file_extension": ".py",
   "mimetype": "text/x-python",
   "name": "python",
   "nbconvert_exporter": "python",
   "pygments_lexer": "ipython3",
   "version": "3.7.7-final"
  },
  "orig_nbformat": 2,
  "kernelspec": {
   "name": "python3",
   "display_name": "Python 3",
   "language": "python"
  }
 },
 "nbformat": 4,
 "nbformat_minor": 2,
 "cells": [
  {
   "cell_type": "code",
   "execution_count": 1,
   "metadata": {},
   "outputs": [
    {
     "output_type": "stream",
     "name": "stderr",
     "text": [
      "Using TensorFlow backend.\n"
     ]
    }
   ],
   "source": [
    "import pandas as pd\n",
    "import numpy as np\n",
    "from keras.models import Sequential\n",
    "from keras.layers import Dense\n",
    "from sklearn.model_selection import train_test_split\n"
   ]
  },
  {
   "cell_type": "code",
   "execution_count": 2,
   "metadata": {},
   "outputs": [],
   "source": [
    "labels_bin = pd.read_csv(\n",
    "    'Training Data/labels_bin.csv', compression='zip')\n",
    "engineered_features = pd.read_csv(\n",
    "    'Training Data/engineered_features.csv', compression='zip')\n",
    "features = pd.read_csv(\n",
    "    'Training Data/features.csv', compression='zip')    \n",
    "\n",
    "labels_bin.drop(['Unnamed: 0'], axis=1, inplace=True)\n",
    "engineered_features.drop(['Unnamed: 0'], axis=1, inplace=True)\n",
    "features.drop(['Unnamed: 0'], axis=1, inplace=True)"
   ]
  },
  {
   "cell_type": "code",
   "execution_count": 3,
   "metadata": {},
   "outputs": [
    {
     "output_type": "execute_result",
     "data": {
      "text/plain": [
       "   is_sky_clear\n",
       "0         False\n",
       "1         False\n",
       "2         False\n",
       "3         False\n",
       "4         False"
      ],
      "text/html": "<div>\n<style scoped>\n    .dataframe tbody tr th:only-of-type {\n        vertical-align: middle;\n    }\n\n    .dataframe tbody tr th {\n        vertical-align: top;\n    }\n\n    .dataframe thead th {\n        text-align: right;\n    }\n</style>\n<table border=\"1\" class=\"dataframe\">\n  <thead>\n    <tr style=\"text-align: right;\">\n      <th></th>\n      <th>is_sky_clear</th>\n    </tr>\n  </thead>\n  <tbody>\n    <tr>\n      <th>0</th>\n      <td>False</td>\n    </tr>\n    <tr>\n      <th>1</th>\n      <td>False</td>\n    </tr>\n    <tr>\n      <th>2</th>\n      <td>False</td>\n    </tr>\n    <tr>\n      <th>3</th>\n      <td>False</td>\n    </tr>\n    <tr>\n      <th>4</th>\n      <td>False</td>\n    </tr>\n  </tbody>\n</table>\n</div>"
     },
     "metadata": {},
     "execution_count": 3
    }
   ],
   "source": [
    "labels_bin.head()"
   ]
  },
  {
   "cell_type": "code",
   "execution_count": 4,
   "metadata": {},
   "outputs": [
    {
     "output_type": "execute_result",
     "data": {
      "text/plain": [
       "   humidity  temperature  pressure  wind direction  wind speed  Latitude  \\\n",
       "0      87.0   284.590217     807.0           268.0         0.0  49.24966   \n",
       "1      88.0   284.588174     849.0           281.0         0.0  49.24966   \n",
       "2      89.0   284.586130     890.0           295.0         0.0  49.24966   \n",
       "3      89.0   284.584087     932.0           309.0         0.0  49.24966   \n",
       "4      90.0   284.582043     973.0           323.0         0.0  49.24966   \n",
       "\n",
       "    Longitude  month  day  hour  day_avg_hum  month_avg_hum  year_avg_hum  \\\n",
       "0 -123.119339     10    2     9    67.822292      67.819934     67.756567   \n",
       "1 -123.119339     10    2    10    67.822292      67.819934     67.756567   \n",
       "2 -123.119339     10    2    11    67.822292      67.819934     67.756567   \n",
       "3 -123.119339     10    2    12    67.822292      67.819934     67.756567   \n",
       "4 -123.119339     10    2    13    67.822292      67.819934     67.756567   \n",
       "\n",
       "   day_avg_temp  month_avg_temp  year_avg_temp  day_avg_press  \\\n",
       "0     287.58953      287.593295     287.600263    1018.114301   \n",
       "1     287.58953      287.593295     287.600263    1018.114301   \n",
       "2     287.58953      287.593295     287.600263    1018.114301   \n",
       "3     287.58953      287.593295     287.600263    1018.114301   \n",
       "4     287.58953      287.593295     287.600263    1018.114301   \n",
       "\n",
       "   month_avg_press  year_avg_press  \n",
       "0      1018.116066     1018.091305  \n",
       "1      1018.116066     1018.091305  \n",
       "2      1018.116066     1018.091305  \n",
       "3      1018.116066     1018.091305  \n",
       "4      1018.116066     1018.091305  "
      ],
      "text/html": "<div>\n<style scoped>\n    .dataframe tbody tr th:only-of-type {\n        vertical-align: middle;\n    }\n\n    .dataframe tbody tr th {\n        vertical-align: top;\n    }\n\n    .dataframe thead th {\n        text-align: right;\n    }\n</style>\n<table border=\"1\" class=\"dataframe\">\n  <thead>\n    <tr style=\"text-align: right;\">\n      <th></th>\n      <th>humidity</th>\n      <th>temperature</th>\n      <th>pressure</th>\n      <th>wind direction</th>\n      <th>wind speed</th>\n      <th>Latitude</th>\n      <th>Longitude</th>\n      <th>month</th>\n      <th>day</th>\n      <th>hour</th>\n      <th>day_avg_hum</th>\n      <th>month_avg_hum</th>\n      <th>year_avg_hum</th>\n      <th>day_avg_temp</th>\n      <th>month_avg_temp</th>\n      <th>year_avg_temp</th>\n      <th>day_avg_press</th>\n      <th>month_avg_press</th>\n      <th>year_avg_press</th>\n    </tr>\n  </thead>\n  <tbody>\n    <tr>\n      <th>0</th>\n      <td>87.0</td>\n      <td>284.590217</td>\n      <td>807.0</td>\n      <td>268.0</td>\n      <td>0.0</td>\n      <td>49.24966</td>\n      <td>-123.119339</td>\n      <td>10</td>\n      <td>2</td>\n      <td>9</td>\n      <td>67.822292</td>\n      <td>67.819934</td>\n      <td>67.756567</td>\n      <td>287.58953</td>\n      <td>287.593295</td>\n      <td>287.600263</td>\n      <td>1018.114301</td>\n      <td>1018.116066</td>\n      <td>1018.091305</td>\n    </tr>\n    <tr>\n      <th>1</th>\n      <td>88.0</td>\n      <td>284.588174</td>\n      <td>849.0</td>\n      <td>281.0</td>\n      <td>0.0</td>\n      <td>49.24966</td>\n      <td>-123.119339</td>\n      <td>10</td>\n      <td>2</td>\n      <td>10</td>\n      <td>67.822292</td>\n      <td>67.819934</td>\n      <td>67.756567</td>\n      <td>287.58953</td>\n      <td>287.593295</td>\n      <td>287.600263</td>\n      <td>1018.114301</td>\n      <td>1018.116066</td>\n      <td>1018.091305</td>\n    </tr>\n    <tr>\n      <th>2</th>\n      <td>89.0</td>\n      <td>284.586130</td>\n      <td>890.0</td>\n      <td>295.0</td>\n      <td>0.0</td>\n      <td>49.24966</td>\n      <td>-123.119339</td>\n      <td>10</td>\n      <td>2</td>\n      <td>11</td>\n      <td>67.822292</td>\n      <td>67.819934</td>\n      <td>67.756567</td>\n      <td>287.58953</td>\n      <td>287.593295</td>\n      <td>287.600263</td>\n      <td>1018.114301</td>\n      <td>1018.116066</td>\n      <td>1018.091305</td>\n    </tr>\n    <tr>\n      <th>3</th>\n      <td>89.0</td>\n      <td>284.584087</td>\n      <td>932.0</td>\n      <td>309.0</td>\n      <td>0.0</td>\n      <td>49.24966</td>\n      <td>-123.119339</td>\n      <td>10</td>\n      <td>2</td>\n      <td>12</td>\n      <td>67.822292</td>\n      <td>67.819934</td>\n      <td>67.756567</td>\n      <td>287.58953</td>\n      <td>287.593295</td>\n      <td>287.600263</td>\n      <td>1018.114301</td>\n      <td>1018.116066</td>\n      <td>1018.091305</td>\n    </tr>\n    <tr>\n      <th>4</th>\n      <td>90.0</td>\n      <td>284.582043</td>\n      <td>973.0</td>\n      <td>323.0</td>\n      <td>0.0</td>\n      <td>49.24966</td>\n      <td>-123.119339</td>\n      <td>10</td>\n      <td>2</td>\n      <td>13</td>\n      <td>67.822292</td>\n      <td>67.819934</td>\n      <td>67.756567</td>\n      <td>287.58953</td>\n      <td>287.593295</td>\n      <td>287.600263</td>\n      <td>1018.114301</td>\n      <td>1018.116066</td>\n      <td>1018.091305</td>\n    </tr>\n  </tbody>\n</table>\n</div>"
     },
     "metadata": {},
     "execution_count": 4
    }
   ],
   "source": [
    "engineered_features.head()"
   ]
  },
  {
   "cell_type": "code",
   "execution_count": 5,
   "metadata": {},
   "outputs": [
    {
     "output_type": "execute_result",
     "data": {
      "text/plain": [
       "   humidity  temperature  pressure  wind direction  wind speed  Latitude  \\\n",
       "0      87.0   284.590217     807.0           268.0         0.0  49.24966   \n",
       "1      88.0   284.588174     849.0           281.0         0.0  49.24966   \n",
       "2      89.0   284.586130     890.0           295.0         0.0  49.24966   \n",
       "3      89.0   284.584087     932.0           309.0         0.0  49.24966   \n",
       "4      90.0   284.582043     973.0           323.0         0.0  49.24966   \n",
       "\n",
       "    Longitude  month  day  hour  \n",
       "0 -123.119339     10    2     9  \n",
       "1 -123.119339     10    2    10  \n",
       "2 -123.119339     10    2    11  \n",
       "3 -123.119339     10    2    12  \n",
       "4 -123.119339     10    2    13  "
      ],
      "text/html": "<div>\n<style scoped>\n    .dataframe tbody tr th:only-of-type {\n        vertical-align: middle;\n    }\n\n    .dataframe tbody tr th {\n        vertical-align: top;\n    }\n\n    .dataframe thead th {\n        text-align: right;\n    }\n</style>\n<table border=\"1\" class=\"dataframe\">\n  <thead>\n    <tr style=\"text-align: right;\">\n      <th></th>\n      <th>humidity</th>\n      <th>temperature</th>\n      <th>pressure</th>\n      <th>wind direction</th>\n      <th>wind speed</th>\n      <th>Latitude</th>\n      <th>Longitude</th>\n      <th>month</th>\n      <th>day</th>\n      <th>hour</th>\n    </tr>\n  </thead>\n  <tbody>\n    <tr>\n      <th>0</th>\n      <td>87.0</td>\n      <td>284.590217</td>\n      <td>807.0</td>\n      <td>268.0</td>\n      <td>0.0</td>\n      <td>49.24966</td>\n      <td>-123.119339</td>\n      <td>10</td>\n      <td>2</td>\n      <td>9</td>\n    </tr>\n    <tr>\n      <th>1</th>\n      <td>88.0</td>\n      <td>284.588174</td>\n      <td>849.0</td>\n      <td>281.0</td>\n      <td>0.0</td>\n      <td>49.24966</td>\n      <td>-123.119339</td>\n      <td>10</td>\n      <td>2</td>\n      <td>10</td>\n    </tr>\n    <tr>\n      <th>2</th>\n      <td>89.0</td>\n      <td>284.586130</td>\n      <td>890.0</td>\n      <td>295.0</td>\n      <td>0.0</td>\n      <td>49.24966</td>\n      <td>-123.119339</td>\n      <td>10</td>\n      <td>2</td>\n      <td>11</td>\n    </tr>\n    <tr>\n      <th>3</th>\n      <td>89.0</td>\n      <td>284.584087</td>\n      <td>932.0</td>\n      <td>309.0</td>\n      <td>0.0</td>\n      <td>49.24966</td>\n      <td>-123.119339</td>\n      <td>10</td>\n      <td>2</td>\n      <td>12</td>\n    </tr>\n    <tr>\n      <th>4</th>\n      <td>90.0</td>\n      <td>284.582043</td>\n      <td>973.0</td>\n      <td>323.0</td>\n      <td>0.0</td>\n      <td>49.24966</td>\n      <td>-123.119339</td>\n      <td>10</td>\n      <td>2</td>\n      <td>13</td>\n    </tr>\n  </tbody>\n</table>\n</div>"
     },
     "metadata": {},
     "execution_count": 5
    }
   ],
   "source": [
    "features.head()"
   ]
  },
  {
   "cell_type": "code",
   "execution_count": 6,
   "metadata": {},
   "outputs": [],
   "source": [
    "X_train, X_test, y_train, y_test = train_test_split(\n",
    "    engineered_features, labels_bin, test_size=0.33, random_state=42)"
   ]
  },
  {
   "cell_type": "code",
   "execution_count": 7,
   "metadata": {},
   "outputs": [],
   "source": [
    "# define the keras model\n",
    "model = Sequential()\n",
    "model.add(Dense(12, input_dim=19, activation='relu'))\n",
    "model.add(Dense(100, activation='relu'))\n",
    "model.add(Dense(100, activation='relu'))\n",
    "model.add(Dense(100, activation='relu'))\n",
    "model.add(Dense(1, activation='sigmoid'))"
   ]
  },
  {
   "cell_type": "code",
   "execution_count": 8,
   "metadata": {},
   "outputs": [],
   "source": [
    "# compile the keras model\n",
    "model.compile(loss='binary_crossentropy', optimizer='adam', metrics=['accuracy'])"
   ]
  },
  {
   "cell_type": "code",
   "execution_count": 9,
   "metadata": {},
   "outputs": [
    {
     "output_type": "stream",
     "name": "stdout",
     "text": [
      "Train on 891393 samples, validate on 439045 samples\n",
      "Epoch 1/10\n",
      "891393/891393 [==============================] - 230s 257us/step - loss: 0.5857 - accuracy: 0.6865 - val_loss: 0.5842 - val_accuracy: 0.6926\n",
      "Epoch 2/10\n",
      "891393/891393 [==============================] - 237s 265us/step - loss: 0.5740 - accuracy: 0.6942 - val_loss: 0.5680 - val_accuracy: 0.6973\n",
      "Epoch 3/10\n",
      "891393/891393 [==============================] - 202s 226us/step - loss: 0.5716 - accuracy: 0.6952 - val_loss: 0.5690 - val_accuracy: 0.6922\n",
      "Epoch 4/10\n",
      "891393/891393 [==============================] - 209s 234us/step - loss: 0.5698 - accuracy: 0.6964 - val_loss: 0.5747 - val_accuracy: 0.6935\n",
      "Epoch 5/10\n",
      "891393/891393 [==============================] - 206s 231us/step - loss: 0.5691 - accuracy: 0.6973 - val_loss: 0.5641 - val_accuracy: 0.6987\n",
      "Epoch 6/10\n",
      "891393/891393 [==============================] - 197s 221us/step - loss: 0.5685 - accuracy: 0.6974 - val_loss: 0.5654 - val_accuracy: 0.6975\n",
      "Epoch 7/10\n",
      "891393/891393 [==============================] - 207s 232us/step - loss: 0.5681 - accuracy: 0.6976 - val_loss: 0.5647 - val_accuracy: 0.7010\n",
      "Epoch 8/10\n",
      "891393/891393 [==============================] - 205s 230us/step - loss: 0.5675 - accuracy: 0.6984 - val_loss: 0.5632 - val_accuracy: 0.7001\n",
      "Epoch 9/10\n",
      "891393/891393 [==============================] - 214s 240us/step - loss: 0.5671 - accuracy: 0.6978 - val_loss: 0.5657 - val_accuracy: 0.6992\n",
      "Epoch 10/10\n",
      "891393/891393 [==============================] - 209s 234us/step - loss: 0.5668 - accuracy: 0.6982 - val_loss: 0.5677 - val_accuracy: 0.6951\n"
     ]
    },
    {
     "output_type": "execute_result",
     "data": {
      "text/plain": [
       "<keras.callbacks.callbacks.History at 0x7fd6a8c80cd0>"
      ]
     },
     "metadata": {},
     "execution_count": 9
    }
   ],
   "source": [
    "# fit the keras model on the dataset\n",
    "model.fit(X_train, y_train, validation_data=(X_test, y_test), epochs=10, batch_size=32)\n"
   ]
  },
  {
   "cell_type": "code",
   "execution_count": null,
   "metadata": {},
   "outputs": [],
   "source": []
  },
  {
   "cell_type": "code",
   "execution_count": null,
   "metadata": {},
   "outputs": [],
   "source": []
  },
  {
   "cell_type": "code",
   "execution_count": null,
   "metadata": {},
   "outputs": [],
   "source": []
  },
  {
   "cell_type": "code",
   "execution_count": null,
   "metadata": {},
   "outputs": [],
   "source": []
  }
 ]
}