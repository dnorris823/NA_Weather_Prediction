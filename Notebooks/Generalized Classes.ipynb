{
 "cells": [
  {
   "cell_type": "code",
   "execution_count": 55,
   "metadata": {},
   "outputs": [],
   "source": [
    "import numpy as np\n",
    "import pandas as pd"
   ]
  },
  {
   "cell_type": "code",
   "execution_count": 56,
   "metadata": {},
   "outputs": [],
   "source": [
    "labels = pd.read_csv('labels.csv', compression='zip')\n",
    "labels.drop(['Unnamed: 0'],axis=1, inplace=True)\n",
    "\n",
    "features = pd.read_csv('features.csv', compression='zip')\n",
    "features.drop(['Unnamed: 0'],axis=1, inplace=True)\n",
    "\n",
    "engineered_features = pd.read_csv('engineered_features.csv', compression='zip')\n",
    "engineered_features.drop(['Unnamed: 0'],axis=1, inplace=True)\n"
   ]
  },
  {
   "cell_type": "code",
   "execution_count": 57,
   "metadata": {},
   "outputs": [
    {
     "output_type": "execute_result",
     "data": {
      "text/plain": "   humidity  temperature  pressure  wind direction  wind speed  Latitude  \\\n0      87.0   284.590217     807.0           268.0         0.0  49.24966   \n1      88.0   284.588174     849.0           281.0         0.0  49.24966   \n2      89.0   284.586130     890.0           295.0         0.0  49.24966   \n3      89.0   284.584087     932.0           309.0         0.0  49.24966   \n4      90.0   284.582043     973.0           323.0         0.0  49.24966   \n\n    Longitude  month  day  hour  day_avg_hum  month_avg_hum  year_avg_hum  \\\n0 -123.119339     10    2     9    67.822292      67.819934     67.756567   \n1 -123.119339     10    2    10    67.822292      67.819934     67.756567   \n2 -123.119339     10    2    11    67.822292      67.819934     67.756567   \n3 -123.119339     10    2    12    67.822292      67.819934     67.756567   \n4 -123.119339     10    2    13    67.822292      67.819934     67.756567   \n\n   day_avg_temp  month_avg_temp  year_avg_temp  day_avg_press  \\\n0     287.58953      287.593295     287.600263    1018.114301   \n1     287.58953      287.593295     287.600263    1018.114301   \n2     287.58953      287.593295     287.600263    1018.114301   \n3     287.58953      287.593295     287.600263    1018.114301   \n4     287.58953      287.593295     287.600263    1018.114301   \n\n   month_avg_press  year_avg_press weather_description  \n0      1018.116066     1018.091305       broken clouds  \n1      1018.116066     1018.091305       broken clouds  \n2      1018.116066     1018.091305       broken clouds  \n3      1018.116066     1018.091305       broken clouds  \n4      1018.116066     1018.091305       broken clouds  ",
      "text/html": "<div>\n<style scoped>\n    .dataframe tbody tr th:only-of-type {\n        vertical-align: middle;\n    }\n\n    .dataframe tbody tr th {\n        vertical-align: top;\n    }\n\n    .dataframe thead th {\n        text-align: right;\n    }\n</style>\n<table border=\"1\" class=\"dataframe\">\n  <thead>\n    <tr style=\"text-align: right;\">\n      <th></th>\n      <th>humidity</th>\n      <th>temperature</th>\n      <th>pressure</th>\n      <th>wind direction</th>\n      <th>wind speed</th>\n      <th>Latitude</th>\n      <th>Longitude</th>\n      <th>month</th>\n      <th>day</th>\n      <th>hour</th>\n      <th>day_avg_hum</th>\n      <th>month_avg_hum</th>\n      <th>year_avg_hum</th>\n      <th>day_avg_temp</th>\n      <th>month_avg_temp</th>\n      <th>year_avg_temp</th>\n      <th>day_avg_press</th>\n      <th>month_avg_press</th>\n      <th>year_avg_press</th>\n      <th>weather_description</th>\n    </tr>\n  </thead>\n  <tbody>\n    <tr>\n      <th>0</th>\n      <td>87.0</td>\n      <td>284.590217</td>\n      <td>807.0</td>\n      <td>268.0</td>\n      <td>0.0</td>\n      <td>49.24966</td>\n      <td>-123.119339</td>\n      <td>10</td>\n      <td>2</td>\n      <td>9</td>\n      <td>67.822292</td>\n      <td>67.819934</td>\n      <td>67.756567</td>\n      <td>287.58953</td>\n      <td>287.593295</td>\n      <td>287.600263</td>\n      <td>1018.114301</td>\n      <td>1018.116066</td>\n      <td>1018.091305</td>\n      <td>broken clouds</td>\n    </tr>\n    <tr>\n      <th>1</th>\n      <td>88.0</td>\n      <td>284.588174</td>\n      <td>849.0</td>\n      <td>281.0</td>\n      <td>0.0</td>\n      <td>49.24966</td>\n      <td>-123.119339</td>\n      <td>10</td>\n      <td>2</td>\n      <td>10</td>\n      <td>67.822292</td>\n      <td>67.819934</td>\n      <td>67.756567</td>\n      <td>287.58953</td>\n      <td>287.593295</td>\n      <td>287.600263</td>\n      <td>1018.114301</td>\n      <td>1018.116066</td>\n      <td>1018.091305</td>\n      <td>broken clouds</td>\n    </tr>\n    <tr>\n      <th>2</th>\n      <td>89.0</td>\n      <td>284.586130</td>\n      <td>890.0</td>\n      <td>295.0</td>\n      <td>0.0</td>\n      <td>49.24966</td>\n      <td>-123.119339</td>\n      <td>10</td>\n      <td>2</td>\n      <td>11</td>\n      <td>67.822292</td>\n      <td>67.819934</td>\n      <td>67.756567</td>\n      <td>287.58953</td>\n      <td>287.593295</td>\n      <td>287.600263</td>\n      <td>1018.114301</td>\n      <td>1018.116066</td>\n      <td>1018.091305</td>\n      <td>broken clouds</td>\n    </tr>\n    <tr>\n      <th>3</th>\n      <td>89.0</td>\n      <td>284.584087</td>\n      <td>932.0</td>\n      <td>309.0</td>\n      <td>0.0</td>\n      <td>49.24966</td>\n      <td>-123.119339</td>\n      <td>10</td>\n      <td>2</td>\n      <td>12</td>\n      <td>67.822292</td>\n      <td>67.819934</td>\n      <td>67.756567</td>\n      <td>287.58953</td>\n      <td>287.593295</td>\n      <td>287.600263</td>\n      <td>1018.114301</td>\n      <td>1018.116066</td>\n      <td>1018.091305</td>\n      <td>broken clouds</td>\n    </tr>\n    <tr>\n      <th>4</th>\n      <td>90.0</td>\n      <td>284.582043</td>\n      <td>973.0</td>\n      <td>323.0</td>\n      <td>0.0</td>\n      <td>49.24966</td>\n      <td>-123.119339</td>\n      <td>10</td>\n      <td>2</td>\n      <td>13</td>\n      <td>67.822292</td>\n      <td>67.819934</td>\n      <td>67.756567</td>\n      <td>287.58953</td>\n      <td>287.593295</td>\n      <td>287.600263</td>\n      <td>1018.114301</td>\n      <td>1018.116066</td>\n      <td>1018.091305</td>\n      <td>broken clouds</td>\n    </tr>\n  </tbody>\n</table>\n</div>"
     },
     "metadata": {},
     "execution_count": 57
    }
   ],
   "source": [
    "engineered_features['weather_description'] = labels\n",
    "engineered_features.head()"
   ]
  },
  {
   "cell_type": "code",
   "execution_count": 58,
   "metadata": {},
   "outputs": [],
   "source": [
    "engineered_features.loc[engineered_features['weather_description'].str.contains('clouds'), 'weather_description'] = 'Cloudy'\n",
    "engineered_features.loc[engineered_features['weather_description'].str.contains('rain'), 'weather_description'] = 'Rainy'\n",
    "engineered_features.loc[engineered_features['weather_description'].str.contains('drizzle'), 'weather_description'] = 'Rainy'\n",
    "engineered_features.loc[engineered_features['weather_description'].str.contains('mist'), 'weather_description'] = 'Rainy'\n",
    "engineered_features.loc[engineered_features['weather_description'].str.contains('fog'), 'weather_description'] = 'Fog/Haze'\n",
    "engineered_features.loc[engineered_features['weather_description'].str.contains('haze'), 'weather_description'] = 'Fog/Haze'\n",
    "engineered_features.loc[engineered_features['weather_description'].str.contains('dust'), 'weather_description'] = 'Poor Visibility'\n",
    "engineered_features.loc[engineered_features['weather_description'].str.contains('sand'), 'weather_description'] = 'Poor Visibility'\n",
    "engineered_features.loc[engineered_features['weather_description'].str.contains('smoke'), 'weather_description'] ='Poor Visibility'\n",
    "engineered_features.loc[engineered_features['weather_description'].str.contains('snow'), 'weather_description'] = 'Snow'\n",
    "engineered_features.loc[engineered_features['weather_description'].str.contains('sleet'), 'weather_description'] = 'Snow'\n",
    "engineered_features.loc[engineered_features['weather_description'].str.contains('storm'), 'weather_description'] = 'Stormy'\n",
    "engineered_features.loc[engineered_features['weather_description'].str.contains('thunderstorm'), 'weather_description'] = 'Stormy'\n",
    "engineered_features.loc[engineered_features['weather_description'].str.contains('squall'), 'weather_description'] = 'Stormy'\n",
    "engineered_features.loc[engineered_features['weather_description'].str.contains('tornado'), 'weather_description'] ='Weather Event'\n",
    "engineered_features.loc[engineered_features['weather_description'].str.contains('volcanic ash'),'weather_description']='Weather Event'\n",
    "engineered_features.loc[engineered_features['weather_description'].str.contains('sky is clear'), 'weather_description'] = 'Clear Weather'"
   ]
  },
  {
   "cell_type": "code",
   "execution_count": 59,
   "metadata": {},
   "outputs": [
    {
     "output_type": "execute_result",
     "data": {
      "text/plain": "Cloudy             497289\nClear Weather      475715\nRainy              286024\nFog/Haze            39316\nSnow                21279\nStormy               8414\nPoor Visibility      2396\nWeather Event           5\nName: weather_description, dtype: int64"
     },
     "metadata": {},
     "execution_count": 59
    }
   ],
   "source": [
    "engineered_features['weather_description'].value_counts()"
   ]
  },
  {
   "cell_type": "code",
   "execution_count": 60,
   "metadata": {},
   "outputs": [],
   "source": [
    "features_gen_no_clear = []\n",
    "features_gen_no_clear = engineered_features[~engineered_features['weather_description'].str.contains(\"Clear Weather\")]\n"
   ]
  },
  {
   "cell_type": "code",
   "execution_count": 61,
   "metadata": {},
   "outputs": [
    {
     "output_type": "execute_result",
     "data": {
      "text/plain": "Cloudy             497289\nRainy              286024\nFog/Haze            39316\nSnow                21279\nStormy               8414\nPoor Visibility      2396\nWeather Event           5\nName: weather_description, dtype: int64"
     },
     "metadata": {},
     "execution_count": 61
    }
   ],
   "source": [
    "features_gen_no_clear['weather_description'].value_counts()"
   ]
  },
  {
   "cell_type": "code",
   "execution_count": 62,
   "metadata": {},
   "outputs": [],
   "source": [
    "labels_gen = []\n",
    "labels_gen = engineered_features['weather_description']\n",
    "engineered_features.drop(['weather_description'],axis=1, inplace=True)\n",
    "features_gen = []\n",
    "features_gen = engineered_features\n",
    "labels_gen_no_clear = []\n",
    "labels_gen_no_clear = features_gen_no_clear['weather_description']\n",
    "features_gen_no_clear.drop(['weather_description'],axis=1, inplace=True)"
   ]
  },
  {
   "cell_type": "code",
   "execution_count": 63,
   "metadata": {},
   "outputs": [],
   "source": [
    "features_gen.to_csv('features_gen.csv', compression='zip')\n",
    "labels_gen.to_csv('labels_gen.csv', compression='zip')\n",
    "features_gen_no_clear.to_csv('features_gen_no_clear.csv', compression='zip')\n",
    "labels_gen_no_clear.to_csv('labels_gen_no_clear.csv', compression='zip')"
   ]
  },
  {
   "cell_type": "code",
   "execution_count": null,
   "metadata": {},
   "outputs": [],
   "source": []
  }
 ],
 "metadata": {
  "language_info": {
   "codemirror_mode": {
    "name": "ipython",
    "version": 3
   },
   "file_extension": ".py",
   "mimetype": "text/x-python",
   "name": "python",
   "nbconvert_exporter": "python",
   "pygments_lexer": "ipython3",
   "version": "3.7.7-final"
  },
  "orig_nbformat": 2,
  "kernelspec": {
   "name": "myenv",
   "display_name": "Python (myenv)"
  }
 },
 "nbformat": 4,
 "nbformat_minor": 2
}