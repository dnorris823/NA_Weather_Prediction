{
 "cells": [
  {
   "cell_type": "code",
   "execution_count": 23,
   "metadata": {},
   "outputs": [],
   "source": [
    "import pandas as pd\n",
    "import numpy as np\n",
    "from sklearn.model_selection import train_test_split\n",
    "from sklearn.ensemble import RandomForestClassifier\n",
    "from sklearn.metrics import roc_auc_score\n",
    "from sklearn import metrics\n",
    "from sklearn.metrics import classification_report, confusion_matrix, accuracy_score\n",
    "from sklearn.preprocessing import normalize"
   ]
  },
  {
   "cell_type": "code",
   "execution_count": 24,
   "metadata": {},
   "outputs": [],
   "source": [
    "labels_bin = pd.read_csv('labels_bin.csv', compression='zip')\n",
    "features = pd.read_csv('features.csv', compression='zip')\n",
    "engineered_features = pd.read_csv('engineered_features.csv', compression='zip')\n",
    "\n",
    "labels_bin.drop(['Unnamed: 0'],axis=1, inplace=True)\n",
    "features.drop(['Unnamed: 0'],axis=1, inplace=True)\n",
    "engineered_features.drop(['Unnamed: 0'],axis=1, inplace=True)"
   ]
  },
  {
   "cell_type": "code",
   "execution_count": 25,
   "metadata": {},
   "outputs": [
    {
     "output_type": "execute_result",
     "data": {
      "text/plain": "   humidity  temperature  pressure  wind direction  wind speed  Latitude  \\\n0      87.0   284.590217     807.0           268.0         0.0  49.24966   \n1      88.0   284.588174     849.0           281.0         0.0  49.24966   \n2      89.0   284.586130     890.0           295.0         0.0  49.24966   \n3      89.0   284.584087     932.0           309.0         0.0  49.24966   \n4      90.0   284.582043     973.0           323.0         0.0  49.24966   \n\n    Longitude  month  day  hour  day_avg_hum  month_avg_hum  year_avg_hum  \\\n0 -123.119339     10    2     9    67.822292      67.819934     67.756567   \n1 -123.119339     10    2    10    67.822292      67.819934     67.756567   \n2 -123.119339     10    2    11    67.822292      67.819934     67.756567   \n3 -123.119339     10    2    12    67.822292      67.819934     67.756567   \n4 -123.119339     10    2    13    67.822292      67.819934     67.756567   \n\n   day_avg_temp  month_avg_temp  year_avg_temp  day_avg_press  \\\n0     287.58953      287.593295     287.600263    1018.114301   \n1     287.58953      287.593295     287.600263    1018.114301   \n2     287.58953      287.593295     287.600263    1018.114301   \n3     287.58953      287.593295     287.600263    1018.114301   \n4     287.58953      287.593295     287.600263    1018.114301   \n\n   month_avg_press  year_avg_press  \n0      1018.116066     1018.091305  \n1      1018.116066     1018.091305  \n2      1018.116066     1018.091305  \n3      1018.116066     1018.091305  \n4      1018.116066     1018.091305  ",
      "text/html": "<div>\n<style scoped>\n    .dataframe tbody tr th:only-of-type {\n        vertical-align: middle;\n    }\n\n    .dataframe tbody tr th {\n        vertical-align: top;\n    }\n\n    .dataframe thead th {\n        text-align: right;\n    }\n</style>\n<table border=\"1\" class=\"dataframe\">\n  <thead>\n    <tr style=\"text-align: right;\">\n      <th></th>\n      <th>humidity</th>\n      <th>temperature</th>\n      <th>pressure</th>\n      <th>wind direction</th>\n      <th>wind speed</th>\n      <th>Latitude</th>\n      <th>Longitude</th>\n      <th>month</th>\n      <th>day</th>\n      <th>hour</th>\n      <th>day_avg_hum</th>\n      <th>month_avg_hum</th>\n      <th>year_avg_hum</th>\n      <th>day_avg_temp</th>\n      <th>month_avg_temp</th>\n      <th>year_avg_temp</th>\n      <th>day_avg_press</th>\n      <th>month_avg_press</th>\n      <th>year_avg_press</th>\n    </tr>\n  </thead>\n  <tbody>\n    <tr>\n      <th>0</th>\n      <td>87.0</td>\n      <td>284.590217</td>\n      <td>807.0</td>\n      <td>268.0</td>\n      <td>0.0</td>\n      <td>49.24966</td>\n      <td>-123.119339</td>\n      <td>10</td>\n      <td>2</td>\n      <td>9</td>\n      <td>67.822292</td>\n      <td>67.819934</td>\n      <td>67.756567</td>\n      <td>287.58953</td>\n      <td>287.593295</td>\n      <td>287.600263</td>\n      <td>1018.114301</td>\n      <td>1018.116066</td>\n      <td>1018.091305</td>\n    </tr>\n    <tr>\n      <th>1</th>\n      <td>88.0</td>\n      <td>284.588174</td>\n      <td>849.0</td>\n      <td>281.0</td>\n      <td>0.0</td>\n      <td>49.24966</td>\n      <td>-123.119339</td>\n      <td>10</td>\n      <td>2</td>\n      <td>10</td>\n      <td>67.822292</td>\n      <td>67.819934</td>\n      <td>67.756567</td>\n      <td>287.58953</td>\n      <td>287.593295</td>\n      <td>287.600263</td>\n      <td>1018.114301</td>\n      <td>1018.116066</td>\n      <td>1018.091305</td>\n    </tr>\n    <tr>\n      <th>2</th>\n      <td>89.0</td>\n      <td>284.586130</td>\n      <td>890.0</td>\n      <td>295.0</td>\n      <td>0.0</td>\n      <td>49.24966</td>\n      <td>-123.119339</td>\n      <td>10</td>\n      <td>2</td>\n      <td>11</td>\n      <td>67.822292</td>\n      <td>67.819934</td>\n      <td>67.756567</td>\n      <td>287.58953</td>\n      <td>287.593295</td>\n      <td>287.600263</td>\n      <td>1018.114301</td>\n      <td>1018.116066</td>\n      <td>1018.091305</td>\n    </tr>\n    <tr>\n      <th>3</th>\n      <td>89.0</td>\n      <td>284.584087</td>\n      <td>932.0</td>\n      <td>309.0</td>\n      <td>0.0</td>\n      <td>49.24966</td>\n      <td>-123.119339</td>\n      <td>10</td>\n      <td>2</td>\n      <td>12</td>\n      <td>67.822292</td>\n      <td>67.819934</td>\n      <td>67.756567</td>\n      <td>287.58953</td>\n      <td>287.593295</td>\n      <td>287.600263</td>\n      <td>1018.114301</td>\n      <td>1018.116066</td>\n      <td>1018.091305</td>\n    </tr>\n    <tr>\n      <th>4</th>\n      <td>90.0</td>\n      <td>284.582043</td>\n      <td>973.0</td>\n      <td>323.0</td>\n      <td>0.0</td>\n      <td>49.24966</td>\n      <td>-123.119339</td>\n      <td>10</td>\n      <td>2</td>\n      <td>13</td>\n      <td>67.822292</td>\n      <td>67.819934</td>\n      <td>67.756567</td>\n      <td>287.58953</td>\n      <td>287.593295</td>\n      <td>287.600263</td>\n      <td>1018.114301</td>\n      <td>1018.116066</td>\n      <td>1018.091305</td>\n    </tr>\n  </tbody>\n</table>\n</div>"
     },
     "metadata": {},
     "execution_count": 25
    }
   ],
   "source": [
    "engineered_features.head()"
   ]
  },
  {
   "cell_type": "code",
   "execution_count": 26,
   "metadata": {},
   "outputs": [],
   "source": [
    "norm_features = normalize(engineered_features)"
   ]
  },
  {
   "cell_type": "code",
   "execution_count": 27,
   "metadata": {},
   "outputs": [],
   "source": [
    "X_train, X_test, y_train, y_test = train_test_split(engineered_features, labels_bin, test_size=0.33, random_state=42)"
   ]
  },
  {
   "cell_type": "code",
   "execution_count": 28,
   "metadata": {
    "tags": []
   },
   "outputs": [
    {
     "output_type": "stream",
     "name": "stderr",
     "text": "[Parallel(n_jobs=-1)]: Using backend ThreadingBackend with 4 concurrent workers.\n[Parallel(n_jobs=-1)]: Done  42 tasks      | elapsed:  2.3min\n[Parallel(n_jobs=-1)]: Done 100 out of 100 | elapsed:  5.1min finished\n[Parallel(n_jobs=4)]: Using backend ThreadingBackend with 4 concurrent workers.\n[Parallel(n_jobs=4)]: Done  42 tasks      | elapsed:    5.3s\n[Parallel(n_jobs=4)]: Done 100 out of 100 | elapsed:   12.2s finished\n"
    }
   ],
   "source": [
    "# Create the model with 100 trees\n",
    "model = RandomForestClassifier(n_estimators = 100, oob_score = True, n_jobs = -1,random_state =50,                                         max_features =\"auto\", verbose=True)\n",
    "# Fit on training data\n",
    "model.fit(X_train, y_train)\n",
    "y_pred = model.predict(X_test)"
   ]
  },
  {
   "cell_type": "code",
   "execution_count": 29,
   "metadata": {
    "tags": []
   },
   "outputs": [
    {
     "output_type": "stream",
     "name": "stdout",
     "text": "[[265027  17594]\n [ 31473 124951]]\n              precision    recall  f1-score   support\n\n       False       0.89      0.94      0.92    282621\n        True       0.88      0.80      0.84    156424\n\n    accuracy                           0.89    439045\n   macro avg       0.89      0.87      0.88    439045\nweighted avg       0.89      0.89      0.89    439045\n\n0.8882415242173354\n"
    }
   ],
   "source": [
    "print(confusion_matrix(y_test,y_pred))\n",
    "print(classification_report(y_test,y_pred))\n",
    "print(accuracy_score(y_test, y_pred))"
   ]
  },
  {
   "cell_type": "code",
   "execution_count": 30,
   "metadata": {
    "tags": []
   },
   "outputs": [
    {
     "output_type": "stream",
     "name": "stderr",
     "text": "[Parallel(n_jobs=4)]: Using backend ThreadingBackend with 4 concurrent workers.\n[Parallel(n_jobs=4)]: Done  42 tasks      | elapsed:   10.8s\n[Parallel(n_jobs=4)]: Done 100 out of 100 | elapsed:   24.7s finished\n[Parallel(n_jobs=4)]: Using backend ThreadingBackend with 4 concurrent workers.\n[Parallel(n_jobs=4)]: Done  42 tasks      | elapsed:   12.7s\n[Parallel(n_jobs=4)]: Done 100 out of 100 | elapsed:   29.0s finished\n[Parallel(n_jobs=4)]: Using backend ThreadingBackend with 4 concurrent workers.\n[Parallel(n_jobs=4)]: Done  42 tasks      | elapsed:    6.4s\n[Parallel(n_jobs=4)]: Done 100 out of 100 | elapsed:   13.7s finished\n[Parallel(n_jobs=4)]: Using backend ThreadingBackend with 4 concurrent workers.\n[Parallel(n_jobs=4)]: Done  42 tasks      | elapsed:    5.6s\n[Parallel(n_jobs=4)]: Done 100 out of 100 | elapsed:   12.7s finished\n"
    }
   ],
   "source": [
    "train_rf_predictions = model.predict(X_train)\n",
    "train_rf_probs = model.predict_proba(X_train)[:, 1]\n",
    "\n",
    "# Actual class predictions\n",
    "rf_predictions = model.predict(X_test)\n",
    "# Probabilities for each class\n",
    "rf_probs = model.predict_proba(X_test)[:, 1]"
   ]
  },
  {
   "cell_type": "code",
   "execution_count": 31,
   "metadata": {},
   "outputs": [],
   "source": [
    "# Calculate roc auc\n",
    "roc_value = roc_auc_score(y_test, rf_probs)\n",
    "roc_value_train = roc_auc_score(y_train, train_rf_probs)"
   ]
  },
  {
   "cell_type": "code",
   "execution_count": 32,
   "metadata": {
    "tags": []
   },
   "outputs": [
    {
     "output_type": "stream",
     "name": "stdout",
     "text": "0.9501782549452488\n"
    }
   ],
   "source": [
    "print(roc_value)"
   ]
  },
  {
   "cell_type": "code",
   "execution_count": 33,
   "metadata": {
    "tags": []
   },
   "outputs": [
    {
     "output_type": "stream",
     "name": "stdout",
     "text": "0.9999999999343067\n"
    }
   ],
   "source": [
    "print(roc_value_train)"
   ]
  },
  {
   "cell_type": "code",
   "execution_count": null,
   "metadata": {},
   "outputs": [],
   "source": []
  }
 ],
 "metadata": {
  "language_info": {
   "codemirror_mode": {
    "name": "ipython",
    "version": 3
   },
   "file_extension": ".py",
   "mimetype": "text/x-python",
   "name": "python",
   "nbconvert_exporter": "python",
   "pygments_lexer": "ipython3",
   "version": "3.7.7-final"
  },
  "orig_nbformat": 2,
  "kernelspec": {
   "name": "myenv",
   "display_name": "Python (myenv)"
  }
 },
 "nbformat": 4,
 "nbformat_minor": 2
}