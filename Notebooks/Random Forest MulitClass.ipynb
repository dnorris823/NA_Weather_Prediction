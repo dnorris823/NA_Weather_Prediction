{
 "cells": [
  {
   "cell_type": "code",
   "execution_count": 41,
   "metadata": {},
   "outputs": [],
   "source": [
    "import numpy as np\n",
    "import pandas as pd\n",
    "from sklearn.model_selection import train_test_split\n",
    "from sklearn.preprocessing import StandardScaler\n",
    "from sklearn.ensemble import RandomForestClassifier\n",
    "from sklearn.metrics import confusion_matrix\n",
    "from sklearn.metrics import classification_report\n",
    "from sklearn.metrics import accuracy_score\n",
    "from sklearn.externals import joblib\n",
    "from sklearn.model_selection import GridSearchCV\n"
   ]
  },
  {
   "cell_type": "code",
   "execution_count": 42,
   "metadata": {},
   "outputs": [],
   "source": [
    "labels = pd.read_csv('labels.csv', compression='zip')\n",
    "features = pd.read_csv('features.csv', compression='zip')\n",
    "labels_gen = pd.read_csv('labels_gen.csv', compression='zip')\n",
    "features_gen = pd.read_csv('features_gen.csv', compression='zip')\n",
    "labels_gen_no_clear = pd.read_csv('labels_gen_no_clear.csv', compression='zip')\n",
    "features_gen_no_clear = pd.read_csv('features_gen_no_clear.csv', compression='zip')\n",
    "\n",
    "labels.drop(['Unnamed: 0'],axis=1, inplace=True)\n",
    "features.drop(['Unnamed: 0'],axis=1, inplace=True)\n",
    "labels_gen.drop(['Unnamed: 0'],axis=1, inplace=True)\n",
    "features_gen.drop(['Unnamed: 0'],axis=1, inplace=True)\n",
    "labels_gen_no_clear.drop(['Unnamed: 0'],axis=1, inplace=True)\n",
    "features_gen_no_clear.drop(['Unnamed: 0'],axis=1, inplace=True)"
   ]
  },
  {
   "cell_type": "code",
   "execution_count": 43,
   "metadata": {},
   "outputs": [
    {
     "output_type": "execute_result",
     "data": {
      "text/plain": "'Cloudy'"
     },
     "metadata": {},
     "execution_count": 43
    }
   ],
   "source": [
    "labels_gen['weather_description'][0]"
   ]
  },
  {
   "cell_type": "code",
   "execution_count": 44,
   "metadata": {},
   "outputs": [
    {
     "output_type": "execute_result",
     "data": {
      "text/plain": "   humidity  temperature  pressure  wind direction  wind speed  Latitude  \\\n0      87.0   284.590217     807.0           268.0         0.0  49.24966   \n1      88.0   284.588174     849.0           281.0         0.0  49.24966   \n2      89.0   284.586130     890.0           295.0         0.0  49.24966   \n3      89.0   284.584087     932.0           309.0         0.0  49.24966   \n4      90.0   284.582043     973.0           323.0         0.0  49.24966   \n\n    Longitude  month  day  hour  day_avg_hum  month_avg_hum  year_avg_hum  \\\n0 -123.119339     10    2     9    67.822292      67.819934     67.756567   \n1 -123.119339     10    2    10    67.822292      67.819934     67.756567   \n2 -123.119339     10    2    11    67.822292      67.819934     67.756567   \n3 -123.119339     10    2    12    67.822292      67.819934     67.756567   \n4 -123.119339     10    2    13    67.822292      67.819934     67.756567   \n\n   day_avg_temp  month_avg_temp  year_avg_temp  day_avg_press  \\\n0     287.58953      287.593295     287.600263    1018.114301   \n1     287.58953      287.593295     287.600263    1018.114301   \n2     287.58953      287.593295     287.600263    1018.114301   \n3     287.58953      287.593295     287.600263    1018.114301   \n4     287.58953      287.593295     287.600263    1018.114301   \n\n   month_avg_press  year_avg_press  \n0      1018.116066     1018.091305  \n1      1018.116066     1018.091305  \n2      1018.116066     1018.091305  \n3      1018.116066     1018.091305  \n4      1018.116066     1018.091305  ",
      "text/html": "<div>\n<style scoped>\n    .dataframe tbody tr th:only-of-type {\n        vertical-align: middle;\n    }\n\n    .dataframe tbody tr th {\n        vertical-align: top;\n    }\n\n    .dataframe thead th {\n        text-align: right;\n    }\n</style>\n<table border=\"1\" class=\"dataframe\">\n  <thead>\n    <tr style=\"text-align: right;\">\n      <th></th>\n      <th>humidity</th>\n      <th>temperature</th>\n      <th>pressure</th>\n      <th>wind direction</th>\n      <th>wind speed</th>\n      <th>Latitude</th>\n      <th>Longitude</th>\n      <th>month</th>\n      <th>day</th>\n      <th>hour</th>\n      <th>day_avg_hum</th>\n      <th>month_avg_hum</th>\n      <th>year_avg_hum</th>\n      <th>day_avg_temp</th>\n      <th>month_avg_temp</th>\n      <th>year_avg_temp</th>\n      <th>day_avg_press</th>\n      <th>month_avg_press</th>\n      <th>year_avg_press</th>\n    </tr>\n  </thead>\n  <tbody>\n    <tr>\n      <th>0</th>\n      <td>87.0</td>\n      <td>284.590217</td>\n      <td>807.0</td>\n      <td>268.0</td>\n      <td>0.0</td>\n      <td>49.24966</td>\n      <td>-123.119339</td>\n      <td>10</td>\n      <td>2</td>\n      <td>9</td>\n      <td>67.822292</td>\n      <td>67.819934</td>\n      <td>67.756567</td>\n      <td>287.58953</td>\n      <td>287.593295</td>\n      <td>287.600263</td>\n      <td>1018.114301</td>\n      <td>1018.116066</td>\n      <td>1018.091305</td>\n    </tr>\n    <tr>\n      <th>1</th>\n      <td>88.0</td>\n      <td>284.588174</td>\n      <td>849.0</td>\n      <td>281.0</td>\n      <td>0.0</td>\n      <td>49.24966</td>\n      <td>-123.119339</td>\n      <td>10</td>\n      <td>2</td>\n      <td>10</td>\n      <td>67.822292</td>\n      <td>67.819934</td>\n      <td>67.756567</td>\n      <td>287.58953</td>\n      <td>287.593295</td>\n      <td>287.600263</td>\n      <td>1018.114301</td>\n      <td>1018.116066</td>\n      <td>1018.091305</td>\n    </tr>\n    <tr>\n      <th>2</th>\n      <td>89.0</td>\n      <td>284.586130</td>\n      <td>890.0</td>\n      <td>295.0</td>\n      <td>0.0</td>\n      <td>49.24966</td>\n      <td>-123.119339</td>\n      <td>10</td>\n      <td>2</td>\n      <td>11</td>\n      <td>67.822292</td>\n      <td>67.819934</td>\n      <td>67.756567</td>\n      <td>287.58953</td>\n      <td>287.593295</td>\n      <td>287.600263</td>\n      <td>1018.114301</td>\n      <td>1018.116066</td>\n      <td>1018.091305</td>\n    </tr>\n    <tr>\n      <th>3</th>\n      <td>89.0</td>\n      <td>284.584087</td>\n      <td>932.0</td>\n      <td>309.0</td>\n      <td>0.0</td>\n      <td>49.24966</td>\n      <td>-123.119339</td>\n      <td>10</td>\n      <td>2</td>\n      <td>12</td>\n      <td>67.822292</td>\n      <td>67.819934</td>\n      <td>67.756567</td>\n      <td>287.58953</td>\n      <td>287.593295</td>\n      <td>287.600263</td>\n      <td>1018.114301</td>\n      <td>1018.116066</td>\n      <td>1018.091305</td>\n    </tr>\n    <tr>\n      <th>4</th>\n      <td>90.0</td>\n      <td>284.582043</td>\n      <td>973.0</td>\n      <td>323.0</td>\n      <td>0.0</td>\n      <td>49.24966</td>\n      <td>-123.119339</td>\n      <td>10</td>\n      <td>2</td>\n      <td>13</td>\n      <td>67.822292</td>\n      <td>67.819934</td>\n      <td>67.756567</td>\n      <td>287.58953</td>\n      <td>287.593295</td>\n      <td>287.600263</td>\n      <td>1018.114301</td>\n      <td>1018.116066</td>\n      <td>1018.091305</td>\n    </tr>\n  </tbody>\n</table>\n</div>"
     },
     "metadata": {},
     "execution_count": 44
    }
   ],
   "source": [
    "features_gen.head()"
   ]
  },
  {
   "cell_type": "code",
   "execution_count": 45,
   "metadata": {},
   "outputs": [],
   "source": [
    "labels_2 = labels"
   ]
  },
  {
   "cell_type": "code",
   "execution_count": 46,
   "metadata": {},
   "outputs": [],
   "source": [
    "# Creating the Training and Test set from data\n",
    "X_train, X_test, y_train, y_test = train_test_split(features_gen_no_clear, labels_gen_no_clear, test_size = 0.25, random_state = 21)"
   ]
  },
  {
   "cell_type": "code",
   "execution_count": 47,
   "metadata": {},
   "outputs": [],
   "source": [
    "# Feature Scaling\n",
    "#scaler = StandardScaler()\n",
    "#X_train = scaler.fit_transform(X_train)\n",
    "#X_test = scaler.transform(X_test)"
   ]
  },
  {
   "cell_type": "code",
   "execution_count": 48,
   "metadata": {
    "tags": []
   },
   "outputs": [
    {
     "output_type": "stream",
     "name": "stderr",
     "text": "[Parallel(n_jobs=-1)]: Using backend ThreadingBackend with 4 concurrent workers.\n[Parallel(n_jobs=-1)]: Done  42 tasks      | elapsed:  1.6min\n[Parallel(n_jobs=-1)]: Done 100 out of 100 | elapsed:  3.6min finished\n[Parallel(n_jobs=4)]: Using backend ThreadingBackend with 4 concurrent workers.\n[Parallel(n_jobs=4)]: Done  42 tasks      | elapsed:    2.8s\n[Parallel(n_jobs=4)]: Done 100 out of 100 | elapsed:    6.5s finished\n"
    }
   ],
   "source": [
    "parameters = {\n",
    "    'n_estimators'      : [100,130],\n",
    "    #'max_features': ['auto'],\n",
    "    #'criterion' :['gini']\n",
    "}\n",
    "\n",
    "#clf = GridSearchCV(RandomForestClassifier(), parameters, cv=5, n_jobs=-1)\n",
    "#clf.fit(X_train, y_train)\n",
    "\n",
    "# Fitting Random Forest Classification to the Training set\n",
    "classifier = RandomForestClassifier(n_estimators = 100, oob_score = True, n_jobs = -1,random_state =50,                                         max_features = \"auto\", verbose=True)\n",
    "classifier.fit(X_train, y_train)\n",
    "y_pred = classifier.predict(X_test)"
   ]
  },
  {
   "cell_type": "code",
   "execution_count": 49,
   "metadata": {
    "tags": []
   },
   "outputs": [
    {
     "output_type": "stream",
     "name": "stdout",
     "text": "[[113462    684     23   9686    503    105      0]\n [  2912   3374     35   3411     72     10      0]\n [   125     40    389     37      0      0      0]\n [ 14984   1242     16  54719    299    167      0]\n [  1370     61      0    586   3333      0      0]\n [  1127     10      1    712      0    185      0]\n [     0      0      0      1      0      0      0]]\n                 precision    recall  f1-score   support\n\n         Cloudy       0.85      0.91      0.88    124463\n       Fog/Haze       0.62      0.34      0.44      9814\nPoor Visibility       0.84      0.66      0.74       591\n          Rainy       0.79      0.77      0.78     71427\n           Snow       0.79      0.62      0.70      5350\n         Stormy       0.40      0.09      0.15      2035\n  Weather Event       0.00      0.00      0.00         1\n\n       accuracy                           0.82    213681\n      macro avg       0.61      0.48      0.53    213681\n   weighted avg       0.81      0.82      0.81    213681\n\n0.8211399235308707\n"
    }
   ],
   "source": [
    "print(confusion_matrix(y_test,y_pred))\n",
    "print(classification_report(y_test,y_pred))\n",
    "print(accuracy_score(y_test, y_pred))"
   ]
  },
  {
   "cell_type": "code",
   "execution_count": 50,
   "metadata": {
    "tags": []
   },
   "outputs": [
    {
     "output_type": "execute_result",
     "data": {
      "text/plain": "array(['Rainy', 'Cloudy', 'Snow', ..., 'Cloudy', 'Cloudy', 'Rainy'],\n      dtype=object)"
     },
     "metadata": {},
     "execution_count": 50
    }
   ],
   "source": [
    "y_pred"
   ]
  },
  {
   "cell_type": "code",
   "execution_count": 51,
   "metadata": {},
   "outputs": [
    {
     "output_type": "execute_result",
     "data": {
      "text/plain": "        weather_description\n0             broken clouds\n1             broken clouds\n2             broken clouds\n3             broken clouds\n4             broken clouds\n...                     ...\n1330433       broken clouds\n1330434       broken clouds\n1330435       broken clouds\n1330436          few clouds\n1330437       broken clouds\n\n[1330438 rows x 1 columns]",
      "text/html": "<div>\n<style scoped>\n    .dataframe tbody tr th:only-of-type {\n        vertical-align: middle;\n    }\n\n    .dataframe tbody tr th {\n        vertical-align: top;\n    }\n\n    .dataframe thead th {\n        text-align: right;\n    }\n</style>\n<table border=\"1\" class=\"dataframe\">\n  <thead>\n    <tr style=\"text-align: right;\">\n      <th></th>\n      <th>weather_description</th>\n    </tr>\n  </thead>\n  <tbody>\n    <tr>\n      <th>0</th>\n      <td>broken clouds</td>\n    </tr>\n    <tr>\n      <th>1</th>\n      <td>broken clouds</td>\n    </tr>\n    <tr>\n      <th>2</th>\n      <td>broken clouds</td>\n    </tr>\n    <tr>\n      <th>3</th>\n      <td>broken clouds</td>\n    </tr>\n    <tr>\n      <th>4</th>\n      <td>broken clouds</td>\n    </tr>\n    <tr>\n      <th>...</th>\n      <td>...</td>\n    </tr>\n    <tr>\n      <th>1330433</th>\n      <td>broken clouds</td>\n    </tr>\n    <tr>\n      <th>1330434</th>\n      <td>broken clouds</td>\n    </tr>\n    <tr>\n      <th>1330435</th>\n      <td>broken clouds</td>\n    </tr>\n    <tr>\n      <th>1330436</th>\n      <td>few clouds</td>\n    </tr>\n    <tr>\n      <th>1330437</th>\n      <td>broken clouds</td>\n    </tr>\n  </tbody>\n</table>\n<p>1330438 rows × 1 columns</p>\n</div>"
     },
     "metadata": {},
     "execution_count": 51
    }
   ],
   "source": [
    "labels"
   ]
  },
  {
   "cell_type": "code",
   "execution_count": null,
   "metadata": {},
   "outputs": [],
   "source": []
  },
  {
   "cell_type": "code",
   "execution_count": 52,
   "metadata": {},
   "outputs": [
    {
     "output_type": "execute_result",
     "data": {
      "text/plain": "  weather_description\n0       broken clouds\n1       broken clouds\n2       broken clouds\n3       broken clouds\n4       broken clouds",
      "text/html": "<div>\n<style scoped>\n    .dataframe tbody tr th:only-of-type {\n        vertical-align: middle;\n    }\n\n    .dataframe tbody tr th {\n        vertical-align: top;\n    }\n\n    .dataframe thead th {\n        text-align: right;\n    }\n</style>\n<table border=\"1\" class=\"dataframe\">\n  <thead>\n    <tr style=\"text-align: right;\">\n      <th></th>\n      <th>weather_description</th>\n    </tr>\n  </thead>\n  <tbody>\n    <tr>\n      <th>0</th>\n      <td>broken clouds</td>\n    </tr>\n    <tr>\n      <th>1</th>\n      <td>broken clouds</td>\n    </tr>\n    <tr>\n      <th>2</th>\n      <td>broken clouds</td>\n    </tr>\n    <tr>\n      <th>3</th>\n      <td>broken clouds</td>\n    </tr>\n    <tr>\n      <th>4</th>\n      <td>broken clouds</td>\n    </tr>\n  </tbody>\n</table>\n</div>"
     },
     "metadata": {},
     "execution_count": 52
    }
   ],
   "source": [
    "labels.head()"
   ]
  },
  {
   "cell_type": "code",
   "execution_count": null,
   "metadata": {},
   "outputs": [],
   "source": []
  },
  {
   "cell_type": "code",
   "execution_count": null,
   "metadata": {},
   "outputs": [],
   "source": []
  }
 ],
 "metadata": {
  "language_info": {
   "codemirror_mode": {
    "name": "ipython",
    "version": 3
   },
   "file_extension": ".py",
   "mimetype": "text/x-python",
   "name": "python",
   "nbconvert_exporter": "python",
   "pygments_lexer": "ipython3",
   "version": "3.7.7-final"
  },
  "orig_nbformat": 2,
  "kernelspec": {
   "name": "myenv",
   "display_name": "Python (myenv)"
  }
 },
 "nbformat": 4,
 "nbformat_minor": 2
}