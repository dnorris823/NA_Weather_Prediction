{
 "cells": [
  {
   "cell_type": "code",
   "execution_count": 1,
   "metadata": {},
   "outputs": [],
   "source": [
    "import pandas as pd\n",
    "import numpy as np\n",
    "import matplotlib.pyplot as plt\n",
    "from sklearn import preprocessing\n"
   ]
  },
  {
   "cell_type": "code",
   "execution_count": 2,
   "metadata": {},
   "outputs": [],
   "source": [
    "city_attributes_df = pd.read_csv(\"historical-hourly-weather-data/city_attributes.csv\")\n",
    "humidity_df = pd.read_csv(\"historical-hourly-weather-data/humidity.csv\")\n",
    "pressure_df = pd.read_csv(\"historical-hourly-weather-data/pressure.csv\")\n",
    "temperature_df = pd.read_csv(\"historical-hourly-weather-data/temperature.csv\")\n",
    "weather_description_df = pd.read_csv(\"historical-hourly-weather-data/weather_description.csv\")\n",
    "wind_direction_df = pd.read_csv(\"historical-hourly-weather-data/wind_direction.csv\")\n",
    "wind_speed_df = pd.read_csv(\"historical-hourly-weather-data/wind_speed.csv\")"
   ]
  },
  {
   "cell_type": "code",
   "execution_count": 3,
   "metadata": {},
   "outputs": [
    {
     "output_type": "execute_result",
     "data": {
      "text/plain": "              datetime       city  humidity\n0  2012-10-01 12:00:00  Vancouver       NaN\n1  2012-10-01 13:00:00  Vancouver      76.0\n2  2012-10-01 14:00:00  Vancouver      76.0\n3  2012-10-01 15:00:00  Vancouver      76.0\n4  2012-10-01 16:00:00  Vancouver      77.0",
      "text/html": "<div>\n<style scoped>\n    .dataframe tbody tr th:only-of-type {\n        vertical-align: middle;\n    }\n\n    .dataframe tbody tr th {\n        vertical-align: top;\n    }\n\n    .dataframe thead th {\n        text-align: right;\n    }\n</style>\n<table border=\"1\" class=\"dataframe\">\n  <thead>\n    <tr style=\"text-align: right;\">\n      <th></th>\n      <th>datetime</th>\n      <th>city</th>\n      <th>humidity</th>\n    </tr>\n  </thead>\n  <tbody>\n    <tr>\n      <th>0</th>\n      <td>2012-10-01 12:00:00</td>\n      <td>Vancouver</td>\n      <td>NaN</td>\n    </tr>\n    <tr>\n      <th>1</th>\n      <td>2012-10-01 13:00:00</td>\n      <td>Vancouver</td>\n      <td>76.0</td>\n    </tr>\n    <tr>\n      <th>2</th>\n      <td>2012-10-01 14:00:00</td>\n      <td>Vancouver</td>\n      <td>76.0</td>\n    </tr>\n    <tr>\n      <th>3</th>\n      <td>2012-10-01 15:00:00</td>\n      <td>Vancouver</td>\n      <td>76.0</td>\n    </tr>\n    <tr>\n      <th>4</th>\n      <td>2012-10-01 16:00:00</td>\n      <td>Vancouver</td>\n      <td>77.0</td>\n    </tr>\n  </tbody>\n</table>\n</div>"
     },
     "metadata": {},
     "execution_count": 3
    }
   ],
   "source": [
    "city_attributes_df = city_attributes_df.drop(['City', 'Country'], axis=1)\n",
    "city_attributes_df.head()\n",
    "\n",
    "humidity_df = pd.read_csv(\"historical-hourly-weather-data/humidity.csv\")\n",
    "melt_names = ['Vancouver', 'Portland', 'San Francisco', 'Seattle', 'Los Angeles', 'San Diego', 'Las Vegas', 'Phoenix',\n",
    "             'Albuquerque', 'Denver', 'San Antonio', 'Dallas', 'Houston', 'Kansas City', 'Minneapolis', 'Saint Louis',\n",
    "             'Chicago', 'Nashville', 'Indianapolis', 'Atlanta', 'Detroit', 'Jacksonville', 'Charlotte', 'Miami',\n",
    "             'Pittsburgh', 'Toronto', 'Philadelphia', 'New York', 'Montreal', 'Boston', 'Beersheba', 'Tel Aviv District',\n",
    "             'Eilat', 'Haifa', 'Nahariyya', 'Jerusalem']\n",
    "#print(melt_names)\n",
    "humidity_df = pd.melt(frame=humidity_df, id_vars=['datetime'], value_vars=melt_names, var_name='city', value_name='humidity')\n",
    "humidity_df.head()"
   ]
  },
  {
   "cell_type": "code",
   "execution_count": 4,
   "metadata": {},
   "outputs": [],
   "source": [
    "melt_names = ['Vancouver', 'Portland', 'San Francisco', 'Seattle', 'Los Angeles', 'San Diego', 'Las Vegas', 'Phoenix',\n",
    "             'Albuquerque', 'Denver', 'San Antonio', 'Dallas', 'Houston', 'Kansas City', 'Minneapolis', 'Saint Louis',\n",
    "             'Chicago', 'Nashville', 'Indianapolis', 'Atlanta', 'Detroit', 'Jacksonville', 'Charlotte', 'Miami',\n",
    "             'Pittsburgh', 'Toronto', 'Philadelphia', 'New York', 'Montreal', 'Boston', 'Beersheba', 'Tel Aviv District',\n",
    "             'Eilat', 'Haifa', 'Nahariyya', 'Jerusalem']\n",
    "pressure_df = pd.melt(frame=pressure_df, id_vars=['datetime'], value_vars=melt_names, var_name='city', value_name='pressure')\n",
    "temperature_df = pd.melt(frame=temperature_df, id_vars=['datetime'], value_vars=melt_names, var_name='city', value_name='temperature')\n",
    "weather_description_df = pd.melt(frame=weather_description_df, id_vars=['datetime'], value_vars=melt_names, var_name='city', value_name='weather description')\n",
    "wind_direction_df = pd.melt(frame=wind_direction_df, id_vars=['datetime'], value_vars=melt_names, var_name='city', value_name='wind direction')\n",
    "wind_speed_df = pd.melt(frame=wind_speed_df, id_vars=['datetime'], value_vars=melt_names, var_name='city', value_name='wind speed')"
   ]
  },
  {
   "cell_type": "code",
   "execution_count": 5,
   "metadata": {},
   "outputs": [],
   "source": [
    "df = humidity_df\n",
    "df['temperature'] = temperature_df['temperature']\n",
    "df['pressure'] = pressure_df['pressure']\n",
    "df['weather_description'] = weather_description_df['weather description']\n",
    "df['wind direction'] = wind_direction_df['wind direction']\n",
    "df['wind speed'] = wind_speed_df['wind speed']"
   ]
  },
  {
   "cell_type": "code",
   "execution_count": 6,
   "metadata": {},
   "outputs": [],
   "source": [
    "df.loc[df['city'] == 'Vancouver', 'Latitude'] = 49.249660\n",
    "df.loc[df['city'] == 'Vancouver', 'Longitude'] = -123.119339\n",
    "df.loc[df['city'] == 'Portland', 'Latitude'] = 45.523449\n",
    "df.loc[df['city'] == 'Portland', 'Longitude'] = -122.676208\n",
    "df.loc[df['city'] == 'San Francisco', 'Latitude'] = 37.774929\n",
    "df.loc[df['city'] == 'San Francisco', 'Longitude'] = -122.419418 \n",
    "df.loc[df['city'] == 'Seattle', 'Latitude'] = 47.606209 \n",
    "df.loc[df['city'] == 'Seattle', 'Longitude'] = -122.332069 \n",
    "df.loc[df['city'] == 'Los Angeles', 'Latitude'] = 34.052231 \n",
    "df.loc[df['city'] == 'Los Angeles', 'Longitude'] = -118.243683\n",
    "df.loc[df['city'] == 'San Diego', 'Latitude'] = 32.715328 \n",
    "df.loc[df['city'] == 'San Diego', 'Longitude'] = -117.157257\n",
    "df.loc[df['city'] == 'Las Vegas', 'Latitude'] = 36.174969 \n",
    "df.loc[df['city'] == 'Las Vegas', 'Longitude'] = -115.137222\n",
    "df.loc[df['city'] == 'Phoenix', 'Latitude'] = 33.448380 \n",
    "df.loc[df['city'] == 'Phoenix', 'Longitude'] = -112.074043\n",
    "df.loc[df['city'] == 'Albuquerque', 'Latitude'] = 35.084492 \n",
    "df.loc[df['city'] == 'Albuquerque', 'Longitude'] = -106.651138\n",
    "df.loc[df['city'] == 'Denver', 'Latitude'] = 39.739151 \n",
    "df.loc[df['city'] == 'Denver', 'Longitude'] = -104.984703\n",
    "df.loc[df['city'] == 'San Antonio', 'Latitude'] = 29.424120 \n",
    "df.loc[df['city'] == 'San Antonio', 'Longitude'] = -98.493629\n",
    "df.loc[df['city'] == 'Dallas', 'Latitude'] = 32.783058 \n",
    "df.loc[df['city'] == 'Dallas', 'Longitude'] = -96.806671\n",
    "df.loc[df['city'] == 'Houston', 'Latitude'] = 29.763281\n",
    "df.loc[df['city'] == 'Houston', 'Longitude'] = - 95.363274\n",
    "df.loc[df['city'] == 'Kansas City', 'Latitude'] = 39.099731 \n",
    "df.loc[df['city'] == 'Kansas City', 'Longitude'] = -94.578568\n",
    "df.loc[df['city'] == 'Minneapolis', 'Latitude'] = 44.979969\n",
    "df.loc[df['city'] == 'Minneapolis', 'Longitude'] = -93.263840\n",
    "df.loc[df['city'] == 'Saint Louis', 'Latitude'] = 38.627270\n",
    "df.loc[df['city'] == 'Saint Louis', 'Longitude'] = -90.197891\n",
    "df.loc[df['city'] == 'Chicago', 'Latitude'] = 41.850029\n",
    "df.loc[df['city'] == 'Chicago', 'Longitude'] = -87.650047\n",
    "df.loc[df['city'] == 'Nashville', 'Latitude'] = 36.165890\n",
    "df.loc[df['city'] == 'Nashville', 'Longitude'] = -86.784439\n",
    "df.loc[df['city'] == 'Indianapolis', 'Latitude'] = 39.768379\n",
    "df.loc[df['city'] == 'Indianapolis', 'Longitude'] = -86.158043\n",
    "df.loc[df['city'] == 'Atlanta', 'Latitude'] = 33.749001\n",
    "df.loc[df['city'] == 'Atlanta', 'Longitude'] = -84.387978\n",
    "df.loc[df['city'] == 'Detroit', 'Latitude'] = 42.331429\n",
    "df.loc[df['city'] == 'Detroit', 'Longitude'] = -83.045753\n",
    "df.loc[df['city'] == 'Jacksonville', 'Latitude'] = 30.332180\n",
    "df.loc[df['city'] == 'Jacksonville', 'Longitude'] = -81.655647\n",
    "df.loc[df['city'] == 'Charlotte', 'Latitude'] = 35.227089\n",
    "df.loc[df['city'] == 'Charlotte', 'Longitude'] = -80.843132\n",
    "df.loc[df['city'] == 'Miami', 'Latitude'] = 25.774269\n",
    "df.loc[df['city'] == 'Miami', 'Longitude'] = -80.193657\n",
    "df.loc[df['city'] == 'Pittsburgh', 'Latitude'] = 40.440620\n",
    "df.loc[df['city'] == 'Pittsburgh', 'Longitude'] = -79.995888\n",
    "df.loc[df['city'] == 'Toronto', 'Latitude'] = 43.700111\n",
    "df.loc[df['city'] == 'Toronto', 'Longitude'] = -79.416298\n",
    "df.loc[df['city'] == 'Philadelphia', 'Latitude'] = 39.952339\n",
    "df.loc[df['city'] == 'Philadelphia', 'Longitude'] = -75.163788\n",
    "df.loc[df['city'] == 'New York', 'Latitude'] = 40.714272\n",
    "df.loc[df['city'] == 'New York', 'Longitude'] = -74.005966\n",
    "df.loc[df['city'] == 'Montreal', 'Latitude'] = 45.508839\n",
    "df.loc[df['city'] == 'Montreal', 'Longitude'] = -73.587807\n",
    "df.loc[df['city'] == 'Boston', 'Latitude'] = 42.358429\n",
    "df.loc[df['city'] == 'Boston', 'Longitude'] = -71.059769\n",
    "df.loc[df['city'] == 'Beersheba', 'Latitude'] = 31.251810\n",
    "df.loc[df['city'] == 'Beersheba', 'Longitude'] = 34.791302\n",
    "df.loc[df['city'] == 'Tel Aviv District', 'Latitude'] = 32.083328\n",
    "df.loc[df['city'] == 'Tel Aviv District', 'Longitude'] = 34.799999\n",
    "df.loc[df['city'] == 'Eilat', 'Latitude'] = 29.558050\n",
    "df.loc[df['city'] == 'Eilat', 'Longitude'] = 34.948212\n",
    "df.loc[df['city'] == 'Haifa', 'Latitude'] = 32.815559\n",
    "df.loc[df['city'] == 'Haifa', 'Longitude'] = 34.989170\n",
    "df.loc[df['city'] == 'Nahariyya', 'Latitude'] = 33.005859\n",
    "df.loc[df['city'] == 'Nahariyya', 'Longitude'] = 35.094090\n",
    "df.loc[df['city'] == 'Jerusalem', 'Latitude'] = 31.769039\n",
    "df.loc[df['city'] == 'Jerusalem', 'Longitude'] = 35.216331\n"
   ]
  },
  {
   "cell_type": "code",
   "execution_count": 7,
   "metadata": {},
   "outputs": [
    {
     "output_type": "execute_result",
     "data": {
      "text/plain": "              datetime       city  humidity  temperature  pressure  \\\n0  2012-10-01 12:00:00  Vancouver       NaN          NaN       NaN   \n1  2012-10-01 13:00:00  Vancouver      76.0   284.630000       NaN   \n2  2012-10-01 14:00:00  Vancouver      76.0   284.629041       NaN   \n3  2012-10-01 15:00:00  Vancouver      76.0   284.626998       NaN   \n4  2012-10-01 16:00:00  Vancouver      77.0   284.624955       NaN   \n\n  weather_description  wind direction  wind speed  Latitude   Longitude  \n0                 NaN             NaN         NaN  49.24966 -123.119339  \n1                mist             0.0         0.0  49.24966 -123.119339  \n2       broken clouds             6.0         0.0  49.24966 -123.119339  \n3       broken clouds            20.0         0.0  49.24966 -123.119339  \n4       broken clouds            34.0         0.0  49.24966 -123.119339  ",
      "text/html": "<div>\n<style scoped>\n    .dataframe tbody tr th:only-of-type {\n        vertical-align: middle;\n    }\n\n    .dataframe tbody tr th {\n        vertical-align: top;\n    }\n\n    .dataframe thead th {\n        text-align: right;\n    }\n</style>\n<table border=\"1\" class=\"dataframe\">\n  <thead>\n    <tr style=\"text-align: right;\">\n      <th></th>\n      <th>datetime</th>\n      <th>city</th>\n      <th>humidity</th>\n      <th>temperature</th>\n      <th>pressure</th>\n      <th>weather_description</th>\n      <th>wind direction</th>\n      <th>wind speed</th>\n      <th>Latitude</th>\n      <th>Longitude</th>\n    </tr>\n  </thead>\n  <tbody>\n    <tr>\n      <th>0</th>\n      <td>2012-10-01 12:00:00</td>\n      <td>Vancouver</td>\n      <td>NaN</td>\n      <td>NaN</td>\n      <td>NaN</td>\n      <td>NaN</td>\n      <td>NaN</td>\n      <td>NaN</td>\n      <td>49.24966</td>\n      <td>-123.119339</td>\n    </tr>\n    <tr>\n      <th>1</th>\n      <td>2012-10-01 13:00:00</td>\n      <td>Vancouver</td>\n      <td>76.0</td>\n      <td>284.630000</td>\n      <td>NaN</td>\n      <td>mist</td>\n      <td>0.0</td>\n      <td>0.0</td>\n      <td>49.24966</td>\n      <td>-123.119339</td>\n    </tr>\n    <tr>\n      <th>2</th>\n      <td>2012-10-01 14:00:00</td>\n      <td>Vancouver</td>\n      <td>76.0</td>\n      <td>284.629041</td>\n      <td>NaN</td>\n      <td>broken clouds</td>\n      <td>6.0</td>\n      <td>0.0</td>\n      <td>49.24966</td>\n      <td>-123.119339</td>\n    </tr>\n    <tr>\n      <th>3</th>\n      <td>2012-10-01 15:00:00</td>\n      <td>Vancouver</td>\n      <td>76.0</td>\n      <td>284.626998</td>\n      <td>NaN</td>\n      <td>broken clouds</td>\n      <td>20.0</td>\n      <td>0.0</td>\n      <td>49.24966</td>\n      <td>-123.119339</td>\n    </tr>\n    <tr>\n      <th>4</th>\n      <td>2012-10-01 16:00:00</td>\n      <td>Vancouver</td>\n      <td>77.0</td>\n      <td>284.624955</td>\n      <td>NaN</td>\n      <td>broken clouds</td>\n      <td>34.0</td>\n      <td>0.0</td>\n      <td>49.24966</td>\n      <td>-123.119339</td>\n    </tr>\n  </tbody>\n</table>\n</div>"
     },
     "metadata": {},
     "execution_count": 7
    }
   ],
   "source": [
    "df.head()"
   ]
  },
  {
   "cell_type": "code",
   "execution_count": 8,
   "metadata": {},
   "outputs": [],
   "source": [
    "df['datetime'] = pd.to_datetime(df['datetime'])"
   ]
  },
  {
   "cell_type": "code",
   "execution_count": 9,
   "metadata": {},
   "outputs": [],
   "source": [
    "israel_rows_index = df[ (df['city'] == 'Beersheba') | (df['city'] == 'Tel Aviv District') | \n",
    "                        (df['city'] == 'Eilat') | (df['city'] == 'Haifa') |\n",
    "                        (df['city'] == 'Nahariyya') | (df['city'] == 'Jerusalem')].index\n",
    "\n",
    "df = df.drop(israel_rows_index , inplace=False)"
   ]
  },
  {
   "cell_type": "code",
   "execution_count": 10,
   "metadata": {},
   "outputs": [],
   "source": [
    "df = df.dropna()"
   ]
  },
  {
   "cell_type": "code",
   "execution_count": 11,
   "metadata": {},
   "outputs": [],
   "source": [
    "df = df.reset_index(drop=True)"
   ]
  },
  {
   "cell_type": "code",
   "execution_count": 12,
   "metadata": {},
   "outputs": [],
   "source": [
    "#df = df[df.Latitude == 47.606209]\n"
   ]
  },
  {
   "cell_type": "code",
   "execution_count": 13,
   "metadata": {},
   "outputs": [
    {
     "output_type": "execute_result",
     "data": {
      "text/plain": "(1330438, 10)"
     },
     "metadata": {},
     "execution_count": 13
    }
   ],
   "source": [
    "df.shape"
   ]
  },
  {
   "cell_type": "code",
   "execution_count": 14,
   "metadata": {},
   "outputs": [],
   "source": [
    "df.drop(['city'],axis=1, inplace=True)\n",
    "\n",
    "# use pd.concat to join the new columns with your original dataframe\n",
    "df_labels = df['weather_description']\n",
    "\n",
    "# now drop the original 'country' column (you don't need it anymore)\n",
    "df.drop(['weather_description'],axis=1, inplace=True)"
   ]
  },
  {
   "cell_type": "code",
   "execution_count": 15,
   "metadata": {},
   "outputs": [
    {
     "output_type": "execute_result",
     "data": {
      "text/plain": "sky is clear                           475715\nbroken clouds                          151804\novercast clouds                        123817\nscattered clouds                       118571\nlight rain                             114905\nfew clouds                             103097\nmist                                    97460\nmoderate rain                           40095\nhaze                                    23236\nfog                                     16080\nlight snow                              14368\nheavy intensity rain                    13396\nlight intensity drizzle                  8047\nproximity thunderstorm                   5272\nlight intensity shower rain              3632\nsnow                                     3152\nthunderstorm                             3027\ndrizzle                                  2420\nheavy snow                               2378\nproximity shower rain                    2339\nsmoke                                    2054\nthunderstorm with light rain             1148\nvery heavy rain                           999\nlight shower snow                         998\nthunderstorm with rain                    482\nthunderstorm with heavy rain              381\nheavy shower snow                         336\ndust                                      325\nheavy intensity drizzle                   229\nshower rain                               155\nproximity thunderstorm with rain          133\nsqualls                                   112\nfreezing rain                              46\nlight intensity drizzle rain               41\nlight rain and snow                        34\nheavy intensity shower rain                23\nshower snow                                23\nthunderstorm with light drizzle            22\nlight shower sleet                         20\nproximity thunderstorm with drizzle        15\nthunderstorm with drizzle                   8\nproximity sand/dust whirls                  7\nproximity moderate rain                     7\nsand                                        6\nshower drizzle                              4\nsand/dust whirls                            4\nsleet                                       4\nvolcanic ash                                3\nragged thunderstorm                         2\ntornado                                     2\nthunderstorm with heavy drizzle             2\nheavy thunderstorm                          1\nrain and snow                               1\nName: weather_description, dtype: int64"
     },
     "metadata": {},
     "execution_count": 15
    }
   ],
   "source": [
    "df_labels.value_counts()"
   ]
  },
  {
   "cell_type": "code",
   "execution_count": 16,
   "metadata": {},
   "outputs": [
    {
     "output_type": "execute_result",
     "data": {
      "text/plain": "1330433    broken clouds\n1330434    broken clouds\n1330435    broken clouds\n1330436       few clouds\n1330437    broken clouds\nName: weather_description, dtype: object"
     },
     "metadata": {},
     "execution_count": 16
    }
   ],
   "source": [
    "df_labels.tail()"
   ]
  },
  {
   "cell_type": "code",
   "execution_count": 17,
   "metadata": {},
   "outputs": [
    {
     "output_type": "execute_result",
     "data": {
      "text/plain": "           humidity   temperature      pressure  wind direction    wind speed  \\\ncount  1.330438e+06  1.330438e+06  1.330438e+06    1.330438e+06  1.330438e+06   \nmean   6.782232e+01  2.875895e+02  1.018114e+03    1.808817e+02  2.812323e+00   \nstd    2.214286e+01  1.048271e+01  1.498146e+01    1.025539e+02  2.088355e+00   \nmin    5.000000e+00  2.423367e+02  8.000000e+02    0.000000e+00  0.000000e+00   \n25%    5.300000e+01  2.805694e+02  1.013000e+03    1.000000e+02  1.000000e+00   \n50%    7.100000e+01  2.885300e+02  1.018000e+03    1.900000e+02  2.000000e+00   \n75%    8.600000e+01  2.954700e+02  1.024000e+03    2.630000e+02  4.000000e+00   \nmax    1.000000e+02  3.212200e+02  1.100000e+03    3.600000e+02  5.000000e+01   \n\n           Latitude     Longitude  \ncount  1.330438e+06  1.330438e+06  \nmean   3.808595e+01 -9.519595e+01  \nstd    5.674317e+00  1.673764e+01  \nmin    2.577427e+01 -1.231193e+02  \n25%    3.374900e+01 -1.120740e+02  \n50%    3.862727e+01 -9.019789e+01  \n75%    4.233143e+01 -8.084313e+01  \nmax    4.924966e+01 -7.105977e+01  ",
      "text/html": "<div>\n<style scoped>\n    .dataframe tbody tr th:only-of-type {\n        vertical-align: middle;\n    }\n\n    .dataframe tbody tr th {\n        vertical-align: top;\n    }\n\n    .dataframe thead th {\n        text-align: right;\n    }\n</style>\n<table border=\"1\" class=\"dataframe\">\n  <thead>\n    <tr style=\"text-align: right;\">\n      <th></th>\n      <th>humidity</th>\n      <th>temperature</th>\n      <th>pressure</th>\n      <th>wind direction</th>\n      <th>wind speed</th>\n      <th>Latitude</th>\n      <th>Longitude</th>\n    </tr>\n  </thead>\n  <tbody>\n    <tr>\n      <th>count</th>\n      <td>1.330438e+06</td>\n      <td>1.330438e+06</td>\n      <td>1.330438e+06</td>\n      <td>1.330438e+06</td>\n      <td>1.330438e+06</td>\n      <td>1.330438e+06</td>\n      <td>1.330438e+06</td>\n    </tr>\n    <tr>\n      <th>mean</th>\n      <td>6.782232e+01</td>\n      <td>2.875895e+02</td>\n      <td>1.018114e+03</td>\n      <td>1.808817e+02</td>\n      <td>2.812323e+00</td>\n      <td>3.808595e+01</td>\n      <td>-9.519595e+01</td>\n    </tr>\n    <tr>\n      <th>std</th>\n      <td>2.214286e+01</td>\n      <td>1.048271e+01</td>\n      <td>1.498146e+01</td>\n      <td>1.025539e+02</td>\n      <td>2.088355e+00</td>\n      <td>5.674317e+00</td>\n      <td>1.673764e+01</td>\n    </tr>\n    <tr>\n      <th>min</th>\n      <td>5.000000e+00</td>\n      <td>2.423367e+02</td>\n      <td>8.000000e+02</td>\n      <td>0.000000e+00</td>\n      <td>0.000000e+00</td>\n      <td>2.577427e+01</td>\n      <td>-1.231193e+02</td>\n    </tr>\n    <tr>\n      <th>25%</th>\n      <td>5.300000e+01</td>\n      <td>2.805694e+02</td>\n      <td>1.013000e+03</td>\n      <td>1.000000e+02</td>\n      <td>1.000000e+00</td>\n      <td>3.374900e+01</td>\n      <td>-1.120740e+02</td>\n    </tr>\n    <tr>\n      <th>50%</th>\n      <td>7.100000e+01</td>\n      <td>2.885300e+02</td>\n      <td>1.018000e+03</td>\n      <td>1.900000e+02</td>\n      <td>2.000000e+00</td>\n      <td>3.862727e+01</td>\n      <td>-9.019789e+01</td>\n    </tr>\n    <tr>\n      <th>75%</th>\n      <td>8.600000e+01</td>\n      <td>2.954700e+02</td>\n      <td>1.024000e+03</td>\n      <td>2.630000e+02</td>\n      <td>4.000000e+00</td>\n      <td>4.233143e+01</td>\n      <td>-8.084313e+01</td>\n    </tr>\n    <tr>\n      <th>max</th>\n      <td>1.000000e+02</td>\n      <td>3.212200e+02</td>\n      <td>1.100000e+03</td>\n      <td>3.600000e+02</td>\n      <td>5.000000e+01</td>\n      <td>4.924966e+01</td>\n      <td>-7.105977e+01</td>\n    </tr>\n  </tbody>\n</table>\n</div>"
     },
     "metadata": {},
     "execution_count": 17
    }
   ],
   "source": [
    "df.describe()"
   ]
  },
  {
   "cell_type": "code",
   "execution_count": 18,
   "metadata": {},
   "outputs": [],
   "source": [
    "t=pd.DatetimeIndex(df['datetime'])\n",
    "df['month']=t.month\n",
    "df['day']=t.day\n",
    "df['hour']=t.hour"
   ]
  },
  {
   "cell_type": "code",
   "execution_count": 19,
   "metadata": {},
   "outputs": [
    {
     "output_type": "execute_result",
     "data": {
      "text/plain": "             datetime  humidity  temperature  pressure  wind direction  \\\n0 2012-10-02 09:00:00      87.0   284.590217     807.0           268.0   \n1 2012-10-02 10:00:00      88.0   284.588174     849.0           281.0   \n2 2012-10-02 11:00:00      89.0   284.586130     890.0           295.0   \n3 2012-10-02 12:00:00      89.0   284.584087     932.0           309.0   \n4 2012-10-02 13:00:00      90.0   284.582043     973.0           323.0   \n\n   wind speed  Latitude   Longitude  month  day  hour  \n0         0.0  49.24966 -123.119339     10    2     9  \n1         0.0  49.24966 -123.119339     10    2    10  \n2         0.0  49.24966 -123.119339     10    2    11  \n3         0.0  49.24966 -123.119339     10    2    12  \n4         0.0  49.24966 -123.119339     10    2    13  ",
      "text/html": "<div>\n<style scoped>\n    .dataframe tbody tr th:only-of-type {\n        vertical-align: middle;\n    }\n\n    .dataframe tbody tr th {\n        vertical-align: top;\n    }\n\n    .dataframe thead th {\n        text-align: right;\n    }\n</style>\n<table border=\"1\" class=\"dataframe\">\n  <thead>\n    <tr style=\"text-align: right;\">\n      <th></th>\n      <th>datetime</th>\n      <th>humidity</th>\n      <th>temperature</th>\n      <th>pressure</th>\n      <th>wind direction</th>\n      <th>wind speed</th>\n      <th>Latitude</th>\n      <th>Longitude</th>\n      <th>month</th>\n      <th>day</th>\n      <th>hour</th>\n    </tr>\n  </thead>\n  <tbody>\n    <tr>\n      <th>0</th>\n      <td>2012-10-02 09:00:00</td>\n      <td>87.0</td>\n      <td>284.590217</td>\n      <td>807.0</td>\n      <td>268.0</td>\n      <td>0.0</td>\n      <td>49.24966</td>\n      <td>-123.119339</td>\n      <td>10</td>\n      <td>2</td>\n      <td>9</td>\n    </tr>\n    <tr>\n      <th>1</th>\n      <td>2012-10-02 10:00:00</td>\n      <td>88.0</td>\n      <td>284.588174</td>\n      <td>849.0</td>\n      <td>281.0</td>\n      <td>0.0</td>\n      <td>49.24966</td>\n      <td>-123.119339</td>\n      <td>10</td>\n      <td>2</td>\n      <td>10</td>\n    </tr>\n    <tr>\n      <th>2</th>\n      <td>2012-10-02 11:00:00</td>\n      <td>89.0</td>\n      <td>284.586130</td>\n      <td>890.0</td>\n      <td>295.0</td>\n      <td>0.0</td>\n      <td>49.24966</td>\n      <td>-123.119339</td>\n      <td>10</td>\n      <td>2</td>\n      <td>11</td>\n    </tr>\n    <tr>\n      <th>3</th>\n      <td>2012-10-02 12:00:00</td>\n      <td>89.0</td>\n      <td>284.584087</td>\n      <td>932.0</td>\n      <td>309.0</td>\n      <td>0.0</td>\n      <td>49.24966</td>\n      <td>-123.119339</td>\n      <td>10</td>\n      <td>2</td>\n      <td>12</td>\n    </tr>\n    <tr>\n      <th>4</th>\n      <td>2012-10-02 13:00:00</td>\n      <td>90.0</td>\n      <td>284.582043</td>\n      <td>973.0</td>\n      <td>323.0</td>\n      <td>0.0</td>\n      <td>49.24966</td>\n      <td>-123.119339</td>\n      <td>10</td>\n      <td>2</td>\n      <td>13</td>\n    </tr>\n  </tbody>\n</table>\n</div>"
     },
     "metadata": {},
     "execution_count": 19
    }
   ],
   "source": [
    "df.head()"
   ]
  },
  {
   "cell_type": "code",
   "execution_count": 20,
   "metadata": {},
   "outputs": [],
   "source": [
    "df.drop(['datetime'],axis=1, inplace=True)"
   ]
  },
  {
   "cell_type": "code",
   "execution_count": 21,
   "metadata": {},
   "outputs": [],
   "source": [
    "#df['month_sin'] = np.sin(2 * np.pi * df['month']/12.0)\n",
    "#df['month_cos'] = np.cos(2 * np.pi * df['month']/12.0)\n",
    "\n",
    "#df['day_sin'] = np.sin(2 * np.pi * df['hour']/365.0)\n",
    "#df['day_cos'] = np.cos(2 * np.pi * df['hour']/365.0)\n",
    "\n",
    "#df['hour_sin'] = np.sin(2 * np.pi * df['hour']/23.0)\n",
    "#df['hour_cos'] = np.cos(2 * np.pi * df['hour']/23.0)\n",
    "\n",
    "#df.drop(['month'],axis=1, inplace=True)\n",
    "#df.drop(['day'],axis=1, inplace=True)\n",
    "#df.drop(['hour'],axis=1, inplace=True)\n"
   ]
  },
  {
   "cell_type": "code",
   "execution_count": 22,
   "metadata": {},
   "outputs": [
    {
     "output_type": "execute_result",
     "data": {
      "text/plain": "    humidity  temperature  pressure  wind direction  wind speed  Latitude  \\\n0       87.0   284.590217     807.0           268.0         0.0  49.24966   \n1       88.0   284.588174     849.0           281.0         0.0  49.24966   \n2       89.0   284.586130     890.0           295.0         0.0  49.24966   \n3       89.0   284.584087     932.0           309.0         0.0  49.24966   \n4       90.0   284.582043     973.0           323.0         0.0  49.24966   \n5       91.0   284.580000    1015.0           337.0         0.0  49.24966   \n6       89.0   284.850000    1027.0           346.0         0.0  49.24966   \n7       76.0   286.260000    1015.0           157.0         0.0  49.24966   \n8       76.0   286.770000    1014.0            45.0         0.0  49.24966   \n9       58.0   289.510000    1013.0           157.0         0.0  49.24966   \n10      53.0   289.670000    1012.0           157.0         0.0  49.24966   \n11      47.0   290.290000    1011.0           157.0         0.0  49.24966   \n12      45.0   291.090000    1010.0           157.0         0.0  49.24966   \n13      49.0   291.260000    1008.0           337.0         0.0  49.24966   \n14      57.0   290.620000    1008.0           337.0         0.0  49.24966   \n15      83.0   286.600000    1008.0           202.0         1.0  49.24966   \n16      80.0   284.780000    1009.0           202.0         0.0  49.24966   \n17      81.0   284.240000    1009.0           225.0         0.0  49.24966   \n18      83.0   284.170000    1009.0           180.0         0.0  49.24966   \n19      85.0   283.250000    1010.0            45.0         0.0  49.24966   \n20      87.0   283.350000    1010.0           180.0         0.0  49.24966   \n21      85.0   282.530000    1010.0           180.0         0.0  49.24966   \n22      80.0   282.830000    1010.0           172.0         0.0  49.24966   \n23      75.0   283.130000    1010.0           164.0         0.0  49.24966   \n24      70.0   283.430000    1011.0           157.0         1.0  49.24966   \n25      62.0   283.920000    1012.0           157.0         0.0  49.24966   \n26      63.0   285.060000    1012.0           202.0         0.0  49.24966   \n27      47.0   286.230000    1012.0            45.0         0.0  49.24966   \n28      48.0   286.730000    1012.0           157.0         0.0  49.24966   \n29      70.0   282.440000    1017.0            22.0         0.0  49.24966   \n\n     Longitude  month  day  hour  \n0  -123.119339     10    2     9  \n1  -123.119339     10    2    10  \n2  -123.119339     10    2    11  \n3  -123.119339     10    2    12  \n4  -123.119339     10    2    13  \n5  -123.119339     10    2    14  \n6  -123.119339     10    2    15  \n7  -123.119339     10    2    16  \n8  -123.119339     10    2    17  \n9  -123.119339     10    2    19  \n10 -123.119339     10    2    20  \n11 -123.119339     10    2    21  \n12 -123.119339     10    2    22  \n13 -123.119339     10    3     0  \n14 -123.119339     10    3     1  \n15 -123.119339     10    3     4  \n16 -123.119339     10    3     8  \n17 -123.119339     10    3     9  \n18 -123.119339     10    3    10  \n19 -123.119339     10    3    11  \n20 -123.119339     10    3    13  \n21 -123.119339     10    3    14  \n22 -123.119339     10    3    15  \n23 -123.119339     10    3    16  \n24 -123.119339     10    3    17  \n25 -123.119339     10    3    18  \n26 -123.119339     10    3    19  \n27 -123.119339     10    3    20  \n28 -123.119339     10    3    21  \n29 -123.119339     10    4     7  ",
      "text/html": "<div>\n<style scoped>\n    .dataframe tbody tr th:only-of-type {\n        vertical-align: middle;\n    }\n\n    .dataframe tbody tr th {\n        vertical-align: top;\n    }\n\n    .dataframe thead th {\n        text-align: right;\n    }\n</style>\n<table border=\"1\" class=\"dataframe\">\n  <thead>\n    <tr style=\"text-align: right;\">\n      <th></th>\n      <th>humidity</th>\n      <th>temperature</th>\n      <th>pressure</th>\n      <th>wind direction</th>\n      <th>wind speed</th>\n      <th>Latitude</th>\n      <th>Longitude</th>\n      <th>month</th>\n      <th>day</th>\n      <th>hour</th>\n    </tr>\n  </thead>\n  <tbody>\n    <tr>\n      <th>0</th>\n      <td>87.0</td>\n      <td>284.590217</td>\n      <td>807.0</td>\n      <td>268.0</td>\n      <td>0.0</td>\n      <td>49.24966</td>\n      <td>-123.119339</td>\n      <td>10</td>\n      <td>2</td>\n      <td>9</td>\n    </tr>\n    <tr>\n      <th>1</th>\n      <td>88.0</td>\n      <td>284.588174</td>\n      <td>849.0</td>\n      <td>281.0</td>\n      <td>0.0</td>\n      <td>49.24966</td>\n      <td>-123.119339</td>\n      <td>10</td>\n      <td>2</td>\n      <td>10</td>\n    </tr>\n    <tr>\n      <th>2</th>\n      <td>89.0</td>\n      <td>284.586130</td>\n      <td>890.0</td>\n      <td>295.0</td>\n      <td>0.0</td>\n      <td>49.24966</td>\n      <td>-123.119339</td>\n      <td>10</td>\n      <td>2</td>\n      <td>11</td>\n    </tr>\n    <tr>\n      <th>3</th>\n      <td>89.0</td>\n      <td>284.584087</td>\n      <td>932.0</td>\n      <td>309.0</td>\n      <td>0.0</td>\n      <td>49.24966</td>\n      <td>-123.119339</td>\n      <td>10</td>\n      <td>2</td>\n      <td>12</td>\n    </tr>\n    <tr>\n      <th>4</th>\n      <td>90.0</td>\n      <td>284.582043</td>\n      <td>973.0</td>\n      <td>323.0</td>\n      <td>0.0</td>\n      <td>49.24966</td>\n      <td>-123.119339</td>\n      <td>10</td>\n      <td>2</td>\n      <td>13</td>\n    </tr>\n    <tr>\n      <th>5</th>\n      <td>91.0</td>\n      <td>284.580000</td>\n      <td>1015.0</td>\n      <td>337.0</td>\n      <td>0.0</td>\n      <td>49.24966</td>\n      <td>-123.119339</td>\n      <td>10</td>\n      <td>2</td>\n      <td>14</td>\n    </tr>\n    <tr>\n      <th>6</th>\n      <td>89.0</td>\n      <td>284.850000</td>\n      <td>1027.0</td>\n      <td>346.0</td>\n      <td>0.0</td>\n      <td>49.24966</td>\n      <td>-123.119339</td>\n      <td>10</td>\n      <td>2</td>\n      <td>15</td>\n    </tr>\n    <tr>\n      <th>7</th>\n      <td>76.0</td>\n      <td>286.260000</td>\n      <td>1015.0</td>\n      <td>157.0</td>\n      <td>0.0</td>\n      <td>49.24966</td>\n      <td>-123.119339</td>\n      <td>10</td>\n      <td>2</td>\n      <td>16</td>\n    </tr>\n    <tr>\n      <th>8</th>\n      <td>76.0</td>\n      <td>286.770000</td>\n      <td>1014.0</td>\n      <td>45.0</td>\n      <td>0.0</td>\n      <td>49.24966</td>\n      <td>-123.119339</td>\n      <td>10</td>\n      <td>2</td>\n      <td>17</td>\n    </tr>\n    <tr>\n      <th>9</th>\n      <td>58.0</td>\n      <td>289.510000</td>\n      <td>1013.0</td>\n      <td>157.0</td>\n      <td>0.0</td>\n      <td>49.24966</td>\n      <td>-123.119339</td>\n      <td>10</td>\n      <td>2</td>\n      <td>19</td>\n    </tr>\n    <tr>\n      <th>10</th>\n      <td>53.0</td>\n      <td>289.670000</td>\n      <td>1012.0</td>\n      <td>157.0</td>\n      <td>0.0</td>\n      <td>49.24966</td>\n      <td>-123.119339</td>\n      <td>10</td>\n      <td>2</td>\n      <td>20</td>\n    </tr>\n    <tr>\n      <th>11</th>\n      <td>47.0</td>\n      <td>290.290000</td>\n      <td>1011.0</td>\n      <td>157.0</td>\n      <td>0.0</td>\n      <td>49.24966</td>\n      <td>-123.119339</td>\n      <td>10</td>\n      <td>2</td>\n      <td>21</td>\n    </tr>\n    <tr>\n      <th>12</th>\n      <td>45.0</td>\n      <td>291.090000</td>\n      <td>1010.0</td>\n      <td>157.0</td>\n      <td>0.0</td>\n      <td>49.24966</td>\n      <td>-123.119339</td>\n      <td>10</td>\n      <td>2</td>\n      <td>22</td>\n    </tr>\n    <tr>\n      <th>13</th>\n      <td>49.0</td>\n      <td>291.260000</td>\n      <td>1008.0</td>\n      <td>337.0</td>\n      <td>0.0</td>\n      <td>49.24966</td>\n      <td>-123.119339</td>\n      <td>10</td>\n      <td>3</td>\n      <td>0</td>\n    </tr>\n    <tr>\n      <th>14</th>\n      <td>57.0</td>\n      <td>290.620000</td>\n      <td>1008.0</td>\n      <td>337.0</td>\n      <td>0.0</td>\n      <td>49.24966</td>\n      <td>-123.119339</td>\n      <td>10</td>\n      <td>3</td>\n      <td>1</td>\n    </tr>\n    <tr>\n      <th>15</th>\n      <td>83.0</td>\n      <td>286.600000</td>\n      <td>1008.0</td>\n      <td>202.0</td>\n      <td>1.0</td>\n      <td>49.24966</td>\n      <td>-123.119339</td>\n      <td>10</td>\n      <td>3</td>\n      <td>4</td>\n    </tr>\n    <tr>\n      <th>16</th>\n      <td>80.0</td>\n      <td>284.780000</td>\n      <td>1009.0</td>\n      <td>202.0</td>\n      <td>0.0</td>\n      <td>49.24966</td>\n      <td>-123.119339</td>\n      <td>10</td>\n      <td>3</td>\n      <td>8</td>\n    </tr>\n    <tr>\n      <th>17</th>\n      <td>81.0</td>\n      <td>284.240000</td>\n      <td>1009.0</td>\n      <td>225.0</td>\n      <td>0.0</td>\n      <td>49.24966</td>\n      <td>-123.119339</td>\n      <td>10</td>\n      <td>3</td>\n      <td>9</td>\n    </tr>\n    <tr>\n      <th>18</th>\n      <td>83.0</td>\n      <td>284.170000</td>\n      <td>1009.0</td>\n      <td>180.0</td>\n      <td>0.0</td>\n      <td>49.24966</td>\n      <td>-123.119339</td>\n      <td>10</td>\n      <td>3</td>\n      <td>10</td>\n    </tr>\n    <tr>\n      <th>19</th>\n      <td>85.0</td>\n      <td>283.250000</td>\n      <td>1010.0</td>\n      <td>45.0</td>\n      <td>0.0</td>\n      <td>49.24966</td>\n      <td>-123.119339</td>\n      <td>10</td>\n      <td>3</td>\n      <td>11</td>\n    </tr>\n    <tr>\n      <th>20</th>\n      <td>87.0</td>\n      <td>283.350000</td>\n      <td>1010.0</td>\n      <td>180.0</td>\n      <td>0.0</td>\n      <td>49.24966</td>\n      <td>-123.119339</td>\n      <td>10</td>\n      <td>3</td>\n      <td>13</td>\n    </tr>\n    <tr>\n      <th>21</th>\n      <td>85.0</td>\n      <td>282.530000</td>\n      <td>1010.0</td>\n      <td>180.0</td>\n      <td>0.0</td>\n      <td>49.24966</td>\n      <td>-123.119339</td>\n      <td>10</td>\n      <td>3</td>\n      <td>14</td>\n    </tr>\n    <tr>\n      <th>22</th>\n      <td>80.0</td>\n      <td>282.830000</td>\n      <td>1010.0</td>\n      <td>172.0</td>\n      <td>0.0</td>\n      <td>49.24966</td>\n      <td>-123.119339</td>\n      <td>10</td>\n      <td>3</td>\n      <td>15</td>\n    </tr>\n    <tr>\n      <th>23</th>\n      <td>75.0</td>\n      <td>283.130000</td>\n      <td>1010.0</td>\n      <td>164.0</td>\n      <td>0.0</td>\n      <td>49.24966</td>\n      <td>-123.119339</td>\n      <td>10</td>\n      <td>3</td>\n      <td>16</td>\n    </tr>\n    <tr>\n      <th>24</th>\n      <td>70.0</td>\n      <td>283.430000</td>\n      <td>1011.0</td>\n      <td>157.0</td>\n      <td>1.0</td>\n      <td>49.24966</td>\n      <td>-123.119339</td>\n      <td>10</td>\n      <td>3</td>\n      <td>17</td>\n    </tr>\n    <tr>\n      <th>25</th>\n      <td>62.0</td>\n      <td>283.920000</td>\n      <td>1012.0</td>\n      <td>157.0</td>\n      <td>0.0</td>\n      <td>49.24966</td>\n      <td>-123.119339</td>\n      <td>10</td>\n      <td>3</td>\n      <td>18</td>\n    </tr>\n    <tr>\n      <th>26</th>\n      <td>63.0</td>\n      <td>285.060000</td>\n      <td>1012.0</td>\n      <td>202.0</td>\n      <td>0.0</td>\n      <td>49.24966</td>\n      <td>-123.119339</td>\n      <td>10</td>\n      <td>3</td>\n      <td>19</td>\n    </tr>\n    <tr>\n      <th>27</th>\n      <td>47.0</td>\n      <td>286.230000</td>\n      <td>1012.0</td>\n      <td>45.0</td>\n      <td>0.0</td>\n      <td>49.24966</td>\n      <td>-123.119339</td>\n      <td>10</td>\n      <td>3</td>\n      <td>20</td>\n    </tr>\n    <tr>\n      <th>28</th>\n      <td>48.0</td>\n      <td>286.730000</td>\n      <td>1012.0</td>\n      <td>157.0</td>\n      <td>0.0</td>\n      <td>49.24966</td>\n      <td>-123.119339</td>\n      <td>10</td>\n      <td>3</td>\n      <td>21</td>\n    </tr>\n    <tr>\n      <th>29</th>\n      <td>70.0</td>\n      <td>282.440000</td>\n      <td>1017.0</td>\n      <td>22.0</td>\n      <td>0.0</td>\n      <td>49.24966</td>\n      <td>-123.119339</td>\n      <td>10</td>\n      <td>4</td>\n      <td>7</td>\n    </tr>\n  </tbody>\n</table>\n</div>"
     },
     "metadata": {},
     "execution_count": 22
    }
   ],
   "source": [
    "df.head(30)"
   ]
  },
  {
   "cell_type": "code",
   "execution_count": 23,
   "metadata": {},
   "outputs": [],
   "source": [
    "#df['humidity'] = preprocessing.normalize(df['humidity'])\n",
    "#df['temperature'] = preprocessing.normalize(df['temperature'])\n",
    "#df['pressure'] = preprocessing.normalize(df['pressure'])\n",
    "#df['wind direction'] = preprocessing.normalize(df['wind direction'])\n",
    "#df['wind speed'] = preprocessing.normalize(df['wind speed'])\n",
    "#df['latitude'] = preprocessing.normalize(df['latitude'])\n",
    "#df['longitude'] = preprocessing.normalize(df['longitude'])\n",
    "#print(df.shape)\n",
    "#df = preprocessing.normalize(df)\n",
    "\n",
    "#df = pd.DataFrame(df)\n",
    "#print(df.shape)"
   ]
  },
  {
   "cell_type": "code",
   "execution_count": 24,
   "metadata": {},
   "outputs": [],
   "source": [
    "df.to_csv('features.csv', compression='zip')\n",
    "df_labels.to_csv('labels.csv', compression='zip')"
   ]
  },
  {
   "cell_type": "code",
   "execution_count": null,
   "metadata": {},
   "outputs": [],
   "source": []
  }
 ],
 "metadata": {
  "kernelspec": {
   "display_name": "Python 3",
   "language": "python",
   "name": "python3"
  },
  "language_info": {
   "codemirror_mode": {
    "name": "ipython",
    "version": 3
   },
   "file_extension": ".py",
   "mimetype": "text/x-python",
   "name": "python",
   "nbconvert_exporter": "python",
   "pygments_lexer": "ipython3",
   "version": "3.7.7-final"
  }
 },
 "nbformat": 4,
 "nbformat_minor": 2
}